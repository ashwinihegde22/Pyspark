{
 "cells": [
  {
   "cell_type": "code",
   "execution_count": 0,
   "metadata": {
    "application/vnd.databricks.v1+cell": {
     "cellMetadata": {
      "byteLimit": 2048000,
      "rowLimit": 10000
     },
     "inputWidgets": {},
     "nuid": "63012db9-92c5-4cbf-8b57-ed7a0ea7491d",
     "showTitle": false,
     "tableResultSettingsMap": {},
     "title": ""
    }
   },
   "outputs": [
    {
     "output_type": "stream",
     "name": "stdout",
     "output_type": "stream",
     "text": [
      "+----------+-------------------+\n|date      |timestamp          |\n+----------+-------------------+\n|2020-01-15|2020-01-15 10:30:00|\n|2021-05-20|2021-05-20 14:45:00|\n|2022-08-10|2022-08-10 09:15:00|\n+----------+-------------------+\n\n"
     ]
    }
   ],
   "source": [
    "from pyspark.sql import SparkSession\n",
    "from pyspark.sql.types import StructType, StructField, DateType, TimestampType\n",
    "from datetime import datetime\n",
    "\n",
    "data = [\n",
    "    (datetime(2020, 1, 15).date(), datetime(2020, 1, 15, 10, 30, 0)),\n",
    "    (datetime(2021, 5, 20).date(), datetime(2021, 5, 20, 14, 45, 0)),\n",
    "    (datetime(2022, 8, 10).date(), datetime(2022, 8, 10, 9, 15, 0))\n",
    "]\n",
    "\n",
    "schema = StructType([\n",
    "    StructField(\"date\", DateType(), True),\n",
    "    StructField(\"timestamp\", TimestampType(), True)\n",
    "])\n",
    "\n",
    "df = spark.createDataFrame(data, schema)\n",
    "\n",
    "df.show(truncate=False)\n"
   ]
  },
  {
   "cell_type": "code",
   "execution_count": 0,
   "metadata": {
    "application/vnd.databricks.v1+cell": {
     "cellMetadata": {
      "byteLimit": 2048000,
      "rowLimit": 10000
     },
     "inputWidgets": {},
     "nuid": "ab3778d5-4371-4c26-ace4-3870f890afb0",
     "showTitle": false,
     "tableResultSettingsMap": {},
     "title": ""
    }
   },
   "outputs": [
    {
     "output_type": "display_data",
     "data": {
      "text/html": [
       "<style scoped>\n",
       "  .table-result-container {\n",
       "    max-height: 300px;\n",
       "    overflow: auto;\n",
       "  }\n",
       "  table, th, td {\n",
       "    border: 1px solid black;\n",
       "    border-collapse: collapse;\n",
       "  }\n",
       "  th, td {\n",
       "    padding: 5px;\n",
       "  }\n",
       "  th {\n",
       "    text-align: left;\n",
       "  }\n",
       "</style><div class='table-result-container'><table class='table-result'><thead style='background-color: white'><tr><th>date</th><th>timestamp</th><th>unix_col</th></tr></thead><tbody><tr><td>2020-01-15</td><td>2020-01-15T10:30:00.000+0000</td><td>1579084200</td></tr><tr><td>2021-05-20</td><td>2021-05-20T14:45:00.000+0000</td><td>1621521900</td></tr><tr><td>2022-08-10</td><td>2022-08-10T09:15:00.000+0000</td><td>1660122900</td></tr></tbody></table></div>"
      ]
     },
     "metadata": {
      "application/vnd.databricks.v1+output": {
       "addedWidgets": {},
       "aggData": [],
       "aggError": "",
       "aggOverflow": false,
       "aggSchema": [],
       "aggSeriesLimitReached": false,
       "aggType": "",
       "arguments": {},
       "columnCustomDisplayInfos": {},
       "data": [
        [
         "2020-01-15",
         "2020-01-15T10:30:00.000+0000",
         1579084200
        ],
        [
         "2021-05-20",
         "2021-05-20T14:45:00.000+0000",
         1621521900
        ],
        [
         "2022-08-10",
         "2022-08-10T09:15:00.000+0000",
         1660122900
        ]
       ],
       "datasetInfos": [],
       "dbfsResultPath": null,
       "isJsonSchema": true,
       "metadata": {},
       "overflow": false,
       "plotOptions": {
        "customPlotOptions": {},
        "displayType": "table",
        "pivotAggregation": null,
        "pivotColumns": null,
        "xColumns": null,
        "yColumns": null
       },
       "removedWidgets": [],
       "schema": [
        {
         "metadata": "{}",
         "name": "date",
         "type": "\"date\""
        },
        {
         "metadata": "{}",
         "name": "timestamp",
         "type": "\"timestamp\""
        },
        {
         "metadata": "{}",
         "name": "unix_col",
         "type": "\"long\""
        }
       ],
       "type": "table"
      }
     },
     "output_type": "display_data"
    }
   ],
   "source": [
    "from pyspark.sql.functions import *\n",
    "\n",
    "ts_toSecond = df.withColumn(\"unix_col\", unix_timestamp(df.timestamp))\n",
    "\n",
    "display(ts_toSecond)"
   ]
  },
  {
   "cell_type": "code",
   "execution_count": 0,
   "metadata": {
    "application/vnd.databricks.v1+cell": {
     "cellMetadata": {
      "byteLimit": 2048000,
      "rowLimit": 10000
     },
     "inputWidgets": {},
     "nuid": "51860058-35ca-43a6-96c3-588bc04e624d",
     "showTitle": false,
     "tableResultSettingsMap": {},
     "title": ""
    }
   },
   "outputs": [
    {
     "output_type": "display_data",
     "data": {
      "text/html": [
       "<style scoped>\n",
       "  .table-result-container {\n",
       "    max-height: 300px;\n",
       "    overflow: auto;\n",
       "  }\n",
       "  table, th, td {\n",
       "    border: 1px solid black;\n",
       "    border-collapse: collapse;\n",
       "  }\n",
       "  th, td {\n",
       "    padding: 5px;\n",
       "  }\n",
       "  th {\n",
       "    text-align: left;\n",
       "  }\n",
       "</style><div class='table-result-container'><table class='table-result'><thead style='background-color: white'><tr><th>date</th><th>timestamp</th><th>unix_col</th><th>secondtoTimestamp</th></tr></thead><tbody><tr><td>2020-01-15</td><td>2020-01-15T10:30:00.000+0000</td><td>1579084200</td><td>2020-01-15 10:30:00</td></tr><tr><td>2021-05-20</td><td>2021-05-20T14:45:00.000+0000</td><td>1621521900</td><td>2021-05-20 14:45:00</td></tr><tr><td>2022-08-10</td><td>2022-08-10T09:15:00.000+0000</td><td>1660122900</td><td>2022-08-10 09:15:00</td></tr></tbody></table></div>"
      ]
     },
     "metadata": {
      "application/vnd.databricks.v1+output": {
       "addedWidgets": {},
       "aggData": [],
       "aggError": "",
       "aggOverflow": false,
       "aggSchema": [],
       "aggSeriesLimitReached": false,
       "aggType": "",
       "arguments": {},
       "columnCustomDisplayInfos": {},
       "data": [
        [
         "2020-01-15",
         "2020-01-15T10:30:00.000+0000",
         1579084200,
         "2020-01-15 10:30:00"
        ],
        [
         "2021-05-20",
         "2021-05-20T14:45:00.000+0000",
         1621521900,
         "2021-05-20 14:45:00"
        ],
        [
         "2022-08-10",
         "2022-08-10T09:15:00.000+0000",
         1660122900,
         "2022-08-10 09:15:00"
        ]
       ],
       "datasetInfos": [],
       "dbfsResultPath": null,
       "isJsonSchema": true,
       "metadata": {},
       "overflow": false,
       "plotOptions": {
        "customPlotOptions": {},
        "displayType": "table",
        "pivotAggregation": null,
        "pivotColumns": null,
        "xColumns": null,
        "yColumns": null
       },
       "removedWidgets": [],
       "schema": [
        {
         "metadata": "{}",
         "name": "date",
         "type": "\"date\""
        },
        {
         "metadata": "{}",
         "name": "timestamp",
         "type": "\"timestamp\""
        },
        {
         "metadata": "{}",
         "name": "unix_col",
         "type": "\"long\""
        },
        {
         "metadata": "{}",
         "name": "secondtoTimestamp",
         "type": "\"string\""
        }
       ],
       "type": "table"
      }
     },
     "output_type": "display_data"
    }
   ],
   "source": [
    "s_toDate = ts_toSecond.withColumn(\"secondtoTimestamp\", from_unixtime(\"unix_col\"))\n",
    "\n",
    "display(s_toDate)"
   ]
  },
  {
   "cell_type": "code",
   "execution_count": 0,
   "metadata": {
    "application/vnd.databricks.v1+cell": {
     "cellMetadata": {
      "byteLimit": 2048000,
      "rowLimit": 10000
     },
     "inputWidgets": {},
     "nuid": "c115ac6c-6939-4b42-9dab-88f9bd11df73",
     "showTitle": false,
     "tableResultSettingsMap": {},
     "title": ""
    }
   },
   "outputs": [
    {
     "output_type": "display_data",
     "data": {
      "text/html": [
       "<style scoped>\n",
       "  .table-result-container {\n",
       "    max-height: 300px;\n",
       "    overflow: auto;\n",
       "  }\n",
       "  table, th, td {\n",
       "    border: 1px solid black;\n",
       "    border-collapse: collapse;\n",
       "  }\n",
       "  th, td {\n",
       "    padding: 5px;\n",
       "  }\n",
       "  th {\n",
       "    text-align: left;\n",
       "  }\n",
       "</style><div class='table-result-container'><table class='table-result'><thead style='background-color: white'><tr><th>date</th><th>timestamp</th><th>ts_todate</th></tr></thead><tbody><tr><td>2020-01-15</td><td>2020-01-15T10:30:00.000+0000</td><td>2020-01-15</td></tr><tr><td>2021-05-20</td><td>2021-05-20T14:45:00.000+0000</td><td>2021-05-20</td></tr><tr><td>2022-08-10</td><td>2022-08-10T09:15:00.000+0000</td><td>2022-08-10</td></tr></tbody></table></div>"
      ]
     },
     "metadata": {
      "application/vnd.databricks.v1+output": {
       "addedWidgets": {},
       "aggData": [],
       "aggError": "",
       "aggOverflow": false,
       "aggSchema": [],
       "aggSeriesLimitReached": false,
       "aggType": "",
       "arguments": {},
       "columnCustomDisplayInfos": {},
       "data": [
        [
         "2020-01-15",
         "2020-01-15T10:30:00.000+0000",
         "2020-01-15"
        ],
        [
         "2021-05-20",
         "2021-05-20T14:45:00.000+0000",
         "2021-05-20"
        ],
        [
         "2022-08-10",
         "2022-08-10T09:15:00.000+0000",
         "2022-08-10"
        ]
       ],
       "datasetInfos": [],
       "dbfsResultPath": null,
       "isJsonSchema": true,
       "metadata": {},
       "overflow": false,
       "plotOptions": {
        "customPlotOptions": {},
        "displayType": "table",
        "pivotAggregation": null,
        "pivotColumns": null,
        "xColumns": null,
        "yColumns": null
       },
       "removedWidgets": [],
       "schema": [
        {
         "metadata": "{}",
         "name": "date",
         "type": "\"date\""
        },
        {
         "metadata": "{}",
         "name": "timestamp",
         "type": "\"timestamp\""
        },
        {
         "metadata": "{}",
         "name": "ts_todate",
         "type": "\"date\""
        }
       ],
       "type": "table"
      }
     },
     "output_type": "display_data"
    }
   ],
   "source": [
    "timestamp_toDate = df.withColumn(\"ts_todate\", to_date(\"timestamp\"))\n",
    "\n",
    "display(timestamp_toDate)"
   ]
  },
  {
   "cell_type": "code",
   "execution_count": 0,
   "metadata": {
    "application/vnd.databricks.v1+cell": {
     "cellMetadata": {
      "byteLimit": 2048000,
      "rowLimit": 10000
     },
     "inputWidgets": {},
     "nuid": "959c4729-e0ba-4dd2-bcd5-19788a76be26",
     "showTitle": false,
     "tableResultSettingsMap": {},
     "title": ""
    }
   },
   "outputs": [
    {
     "output_type": "display_data",
     "data": {
      "text/html": [
       "<style scoped>\n",
       "  .table-result-container {\n",
       "    max-height: 300px;\n",
       "    overflow: auto;\n",
       "  }\n",
       "  table, th, td {\n",
       "    border: 1px solid black;\n",
       "    border-collapse: collapse;\n",
       "  }\n",
       "  th, td {\n",
       "    padding: 5px;\n",
       "  }\n",
       "  th {\n",
       "    text-align: left;\n",
       "  }\n",
       "</style><div class='table-result-container'><table class='table-result'><thead style='background-color: white'><tr><th>date</th><th>timestamp</th><th>minutes</th></tr></thead><tbody><tr><td>2020-01-15</td><td>2020-01-15T10:30:00.000+0000</td><td>30</td></tr><tr><td>2021-05-20</td><td>2021-05-20T14:45:00.000+0000</td><td>45</td></tr><tr><td>2022-08-10</td><td>2022-08-10T09:15:00.000+0000</td><td>15</td></tr></tbody></table></div>"
      ]
     },
     "metadata": {
      "application/vnd.databricks.v1+output": {
       "addedWidgets": {},
       "aggData": [],
       "aggError": "",
       "aggOverflow": false,
       "aggSchema": [],
       "aggSeriesLimitReached": false,
       "aggType": "",
       "arguments": {},
       "columnCustomDisplayInfos": {},
       "data": [
        [
         "2020-01-15",
         "2020-01-15T10:30:00.000+0000",
         30
        ],
        [
         "2021-05-20",
         "2021-05-20T14:45:00.000+0000",
         45
        ],
        [
         "2022-08-10",
         "2022-08-10T09:15:00.000+0000",
         15
        ]
       ],
       "datasetInfos": [],
       "dbfsResultPath": null,
       "isJsonSchema": true,
       "metadata": {},
       "overflow": false,
       "plotOptions": {
        "customPlotOptions": {},
        "displayType": "table",
        "pivotAggregation": null,
        "pivotColumns": null,
        "xColumns": null,
        "yColumns": null
       },
       "removedWidgets": [],
       "schema": [
        {
         "metadata": "{}",
         "name": "date",
         "type": "\"date\""
        },
        {
         "metadata": "{}",
         "name": "timestamp",
         "type": "\"timestamp\""
        },
        {
         "metadata": "{}",
         "name": "minutes",
         "type": "\"integer\""
        }
       ],
       "type": "table"
      }
     },
     "output_type": "display_data"
    }
   ],
   "source": [
    "minutes = df.withColumn(\"minutes\", minute(\"timestamp\"))\n",
    "\n",
    "display(minutes)"
   ]
  },
  {
   "cell_type": "code",
   "execution_count": 0,
   "metadata": {
    "application/vnd.databricks.v1+cell": {
     "cellMetadata": {
      "byteLimit": 2048000,
      "rowLimit": 10000
     },
     "inputWidgets": {},
     "nuid": "74e5f30e-693d-49e4-9161-5a5039dec9b5",
     "showTitle": false,
     "tableResultSettingsMap": {},
     "title": ""
    }
   },
   "outputs": [
    {
     "output_type": "display_data",
     "data": {
      "text/html": [
       "<style scoped>\n",
       "  .table-result-container {\n",
       "    max-height: 300px;\n",
       "    overflow: auto;\n",
       "  }\n",
       "  table, th, td {\n",
       "    border: 1px solid black;\n",
       "    border-collapse: collapse;\n",
       "  }\n",
       "  th, td {\n",
       "    padding: 5px;\n",
       "  }\n",
       "  th {\n",
       "    text-align: left;\n",
       "  }\n",
       "</style><div class='table-result-container'><table class='table-result'><thead style='background-color: white'><tr><th>date</th><th>timestamp</th><th>seconds</th></tr></thead><tbody><tr><td>2020-01-15</td><td>2020-01-15T10:30:00.000+0000</td><td>0</td></tr><tr><td>2021-05-20</td><td>2021-05-20T14:45:00.000+0000</td><td>0</td></tr><tr><td>2022-08-10</td><td>2022-08-10T09:15:00.000+0000</td><td>0</td></tr></tbody></table></div>"
      ]
     },
     "metadata": {
      "application/vnd.databricks.v1+output": {
       "addedWidgets": {},
       "aggData": [],
       "aggError": "",
       "aggOverflow": false,
       "aggSchema": [],
       "aggSeriesLimitReached": false,
       "aggType": "",
       "arguments": {},
       "columnCustomDisplayInfos": {},
       "data": [
        [
         "2020-01-15",
         "2020-01-15T10:30:00.000+0000",
         0
        ],
        [
         "2021-05-20",
         "2021-05-20T14:45:00.000+0000",
         0
        ],
        [
         "2022-08-10",
         "2022-08-10T09:15:00.000+0000",
         0
        ]
       ],
       "datasetInfos": [],
       "dbfsResultPath": null,
       "isJsonSchema": true,
       "metadata": {},
       "overflow": false,
       "plotOptions": {
        "customPlotOptions": {},
        "displayType": "table",
        "pivotAggregation": null,
        "pivotColumns": null,
        "xColumns": null,
        "yColumns": null
       },
       "removedWidgets": [],
       "schema": [
        {
         "metadata": "{}",
         "name": "date",
         "type": "\"date\""
        },
        {
         "metadata": "{}",
         "name": "timestamp",
         "type": "\"timestamp\""
        },
        {
         "metadata": "{}",
         "name": "seconds",
         "type": "\"integer\""
        }
       ],
       "type": "table"
      }
     },
     "output_type": "display_data"
    }
   ],
   "source": [
    "seconds2 = df.withColumn(\"seconds\", second(\"timestamp\"))\n",
    "display(seconds2)"
   ]
  },
  {
   "cell_type": "code",
   "execution_count": 0,
   "metadata": {
    "application/vnd.databricks.v1+cell": {
     "cellMetadata": {
      "byteLimit": 2048000,
      "rowLimit": 10000
     },
     "inputWidgets": {},
     "nuid": "3ca07bb7-977e-4a79-a872-707d95a7e954",
     "showTitle": false,
     "tableResultSettingsMap": {},
     "title": ""
    }
   },
   "outputs": [
    {
     "output_type": "stream",
     "name": "stdout",
     "output_type": "stream",
     "text": [
      "Out[222]: [Row(date=datetime.date(2020, 1, 15), timestamp=datetime.datetime(2020, 1, 15, 10, 30)),\n Row(date=datetime.date(2021, 5, 20), timestamp=datetime.datetime(2021, 5, 20, 14, 45)),\n Row(date=datetime.date(2022, 8, 10), timestamp=datetime.datetime(2022, 8, 10, 9, 15))]"
     ]
    }
   ],
   "source": [
    "df.collect()"
   ]
  },
  {
   "cell_type": "code",
   "execution_count": 0,
   "metadata": {
    "application/vnd.databricks.v1+cell": {
     "cellMetadata": {
      "byteLimit": 2048000,
      "rowLimit": 10000
     },
     "inputWidgets": {},
     "nuid": "d0cdeb48-a084-4196-9d89-51883afda2ef",
     "showTitle": false,
     "tableResultSettingsMap": {},
     "title": ""
    }
   },
   "outputs": [
    {
     "output_type": "display_data",
     "data": {
      "text/html": [
       "<style scoped>\n",
       "  .table-result-container {\n",
       "    max-height: 300px;\n",
       "    overflow: auto;\n",
       "  }\n",
       "  table, th, td {\n",
       "    border: 1px solid black;\n",
       "    border-collapse: collapse;\n",
       "  }\n",
       "  th, td {\n",
       "    padding: 5px;\n",
       "  }\n",
       "  th {\n",
       "    text-align: left;\n",
       "  }\n",
       "</style><div class='table-result-container'><table class='table-result'><thead style='background-color: white'><tr><th>Department</th><th>Employee</th><th>Salary</th><th>Age</th><th>Joining_Date</th></tr></thead><tbody><tr><td>HR</td><td>John</td><td>50000</td><td>28</td><td>2020-01-15</td></tr><tr><td>HR</td><td>Jane</td><td>60000</td><td>34</td><td>2019-03-23</td></tr><tr><td>IT</td><td>Mike</td><td>75000</td><td>29</td><td>2021-06-01</td></tr><tr><td>IT</td><td>Anna</td><td>80000</td><td>31</td><td>2018-07-19</td></tr><tr><td>Finance</td><td>Sara</td><td>65000</td><td>45</td><td>2017-11-30</td></tr><tr><td>Finance</td><td>Tom</td><td>70000</td><td>41</td><td>2016-09-15</td></tr><tr><td>Marketing</td><td>Nina</td><td>55000</td><td>26</td><td>2022-02-10</td></tr><tr><td>Marketing</td><td>Alex</td><td>72000</td><td>30</td><td>2019-12-05</td></tr></tbody></table></div>"
      ]
     },
     "metadata": {
      "application/vnd.databricks.v1+output": {
       "addedWidgets": {},
       "aggData": [],
       "aggError": "",
       "aggOverflow": false,
       "aggSchema": [],
       "aggSeriesLimitReached": false,
       "aggType": "",
       "arguments": {},
       "columnCustomDisplayInfos": {},
       "data": [
        [
         "HR",
         "John",
         50000,
         28,
         "2020-01-15"
        ],
        [
         "HR",
         "Jane",
         60000,
         34,
         "2019-03-23"
        ],
        [
         "IT",
         "Mike",
         75000,
         29,
         "2021-06-01"
        ],
        [
         "IT",
         "Anna",
         80000,
         31,
         "2018-07-19"
        ],
        [
         "Finance",
         "Sara",
         65000,
         45,
         "2017-11-30"
        ],
        [
         "Finance",
         "Tom",
         70000,
         41,
         "2016-09-15"
        ],
        [
         "Marketing",
         "Nina",
         55000,
         26,
         "2022-02-10"
        ],
        [
         "Marketing",
         "Alex",
         72000,
         30,
         "2019-12-05"
        ]
       ],
       "datasetInfos": [],
       "dbfsResultPath": null,
       "isJsonSchema": true,
       "metadata": {},
       "overflow": false,
       "plotOptions": {
        "customPlotOptions": {},
        "displayType": "table",
        "pivotAggregation": null,
        "pivotColumns": null,
        "xColumns": null,
        "yColumns": null
       },
       "removedWidgets": [],
       "schema": [
        {
         "metadata": "{}",
         "name": "Department",
         "type": "\"string\""
        },
        {
         "metadata": "{}",
         "name": "Employee",
         "type": "\"string\""
        },
        {
         "metadata": "{}",
         "name": "Salary",
         "type": "\"integer\""
        },
        {
         "metadata": "{}",
         "name": "Age",
         "type": "\"integer\""
        },
        {
         "metadata": "{\"__detected_date_formats\":\"yyyy-M-d\"}",
         "name": "Joining_Date",
         "type": "\"date\""
        }
       ],
       "type": "table"
      }
     },
     "output_type": "display_data"
    }
   ],
   "source": [
    "read_csv = spark.read.csv(\"dbfs:/FileStore/tables/sample_dataset.csv\", header = \"true\", inferSchema = \"true\")\n",
    "\n",
    "display(read_csv)"
   ]
  },
  {
   "cell_type": "code",
   "execution_count": 0,
   "metadata": {
    "application/vnd.databricks.v1+cell": {
     "cellMetadata": {
      "byteLimit": 2048000,
      "rowLimit": 10000
     },
     "inputWidgets": {},
     "nuid": "f8e88225-a2a9-4cd6-90a6-d1800930ee77",
     "showTitle": false,
     "tableResultSettingsMap": {},
     "title": ""
    }
   },
   "outputs": [],
   "source": [
    "from pyspark.sql.functions import substring"
   ]
  },
  {
   "cell_type": "code",
   "execution_count": 0,
   "metadata": {
    "application/vnd.databricks.v1+cell": {
     "cellMetadata": {
      "byteLimit": 2048000,
      "rowLimit": 10000
     },
     "inputWidgets": {},
     "nuid": "1ca94633-344b-420c-b98b-4be6b435a3d1",
     "showTitle": false,
     "tableResultSettingsMap": {},
     "title": ""
    }
   },
   "outputs": [
    {
     "output_type": "display_data",
     "data": {
      "text/html": [
       "<style scoped>\n",
       "  .table-result-container {\n",
       "    max-height: 300px;\n",
       "    overflow: auto;\n",
       "  }\n",
       "  table, th, td {\n",
       "    border: 1px solid black;\n",
       "    border-collapse: collapse;\n",
       "  }\n",
       "  th, td {\n",
       "    padding: 5px;\n",
       "  }\n",
       "  th {\n",
       "    text-align: left;\n",
       "  }\n",
       "</style><div class='table-result-container'><table class='table-result'><thead style='background-color: white'><tr><th>Department</th><th>Employee</th><th>Salary</th><th>Age</th><th>Joining_Date</th><th>substring</th></tr></thead><tbody><tr><td>HR</td><td>John</td><td>50000</td><td>28</td><td>2020-01-15</td><td>HR</td></tr><tr><td>HR</td><td>Jane</td><td>60000</td><td>34</td><td>2019-03-23</td><td>HR</td></tr><tr><td>IT</td><td>Mike</td><td>75000</td><td>29</td><td>2021-06-01</td><td>IT</td></tr><tr><td>IT</td><td>Anna</td><td>80000</td><td>31</td><td>2018-07-19</td><td>IT</td></tr><tr><td>Finance</td><td>Sara</td><td>65000</td><td>45</td><td>2017-11-30</td><td>Fin</td></tr><tr><td>Finance</td><td>Tom</td><td>70000</td><td>41</td><td>2016-09-15</td><td>Fin</td></tr><tr><td>Marketing</td><td>Nina</td><td>55000</td><td>26</td><td>2022-02-10</td><td>Mar</td></tr><tr><td>Marketing</td><td>Alex</td><td>72000</td><td>30</td><td>2019-12-05</td><td>Mar</td></tr></tbody></table></div>"
      ]
     },
     "metadata": {
      "application/vnd.databricks.v1+output": {
       "addedWidgets": {},
       "aggData": [],
       "aggError": "",
       "aggOverflow": false,
       "aggSchema": [],
       "aggSeriesLimitReached": false,
       "aggType": "",
       "arguments": {},
       "columnCustomDisplayInfos": {},
       "data": [
        [
         "HR",
         "John",
         50000,
         28,
         "2020-01-15",
         "HR"
        ],
        [
         "HR",
         "Jane",
         60000,
         34,
         "2019-03-23",
         "HR"
        ],
        [
         "IT",
         "Mike",
         75000,
         29,
         "2021-06-01",
         "IT"
        ],
        [
         "IT",
         "Anna",
         80000,
         31,
         "2018-07-19",
         "IT"
        ],
        [
         "Finance",
         "Sara",
         65000,
         45,
         "2017-11-30",
         "Fin"
        ],
        [
         "Finance",
         "Tom",
         70000,
         41,
         "2016-09-15",
         "Fin"
        ],
        [
         "Marketing",
         "Nina",
         55000,
         26,
         "2022-02-10",
         "Mar"
        ],
        [
         "Marketing",
         "Alex",
         72000,
         30,
         "2019-12-05",
         "Mar"
        ]
       ],
       "datasetInfos": [],
       "dbfsResultPath": null,
       "isJsonSchema": true,
       "metadata": {},
       "overflow": false,
       "plotOptions": {
        "customPlotOptions": {},
        "displayType": "table",
        "pivotAggregation": null,
        "pivotColumns": null,
        "xColumns": null,
        "yColumns": null
       },
       "removedWidgets": [],
       "schema": [
        {
         "metadata": "{}",
         "name": "Department",
         "type": "\"string\""
        },
        {
         "metadata": "{}",
         "name": "Employee",
         "type": "\"string\""
        },
        {
         "metadata": "{}",
         "name": "Salary",
         "type": "\"integer\""
        },
        {
         "metadata": "{}",
         "name": "Age",
         "type": "\"integer\""
        },
        {
         "metadata": "{\"__detected_date_formats\":\"yyyy-M-d\"}",
         "name": "Joining_Date",
         "type": "\"date\""
        },
        {
         "metadata": "{}",
         "name": "substring",
         "type": "\"string\""
        }
       ],
       "type": "table"
      }
     },
     "output_type": "display_data"
    }
   ],
   "source": [
    "\n",
    "col = read_csv.withColumn(\"substring\", substring(\"Department\", 1,3))\n",
    "\n",
    "display(col)"
   ]
  },
  {
   "cell_type": "code",
   "execution_count": 0,
   "metadata": {
    "application/vnd.databricks.v1+cell": {
     "cellMetadata": {
      "byteLimit": 2048000,
      "rowLimit": 10000
     },
     "inputWidgets": {},
     "nuid": "d3ea0697-3173-41c3-ab0e-32c23454dc67",
     "showTitle": false,
     "tableResultSettingsMap": {},
     "title": ""
    }
   },
   "outputs": [
    {
     "output_type": "display_data",
     "data": {
      "text/html": [
       "<style scoped>\n",
       "  .table-result-container {\n",
       "    max-height: 300px;\n",
       "    overflow: auto;\n",
       "  }\n",
       "  table, th, td {\n",
       "    border: 1px solid black;\n",
       "    border-collapse: collapse;\n",
       "  }\n",
       "  th, td {\n",
       "    padding: 5px;\n",
       "  }\n",
       "  th {\n",
       "    text-align: left;\n",
       "  }\n",
       "</style><div class='table-result-container'><table class='table-result'><thead style='background-color: white'><tr><th>Department</th><th>addedsalary</th></tr></thead><tbody><tr><td>HR</td><td>50001</td></tr><tr><td>HR</td><td>60001</td></tr><tr><td>IT</td><td>75001</td></tr><tr><td>IT</td><td>80001</td></tr><tr><td>Finance</td><td>65001</td></tr><tr><td>Finance</td><td>70001</td></tr><tr><td>Marketing</td><td>55001</td></tr><tr><td>Marketing</td><td>72001</td></tr></tbody></table></div>"
      ]
     },
     "metadata": {
      "application/vnd.databricks.v1+output": {
       "addedWidgets": {},
       "aggData": [],
       "aggError": "",
       "aggOverflow": false,
       "aggSchema": [],
       "aggSeriesLimitReached": false,
       "aggType": "",
       "arguments": {},
       "columnCustomDisplayInfos": {},
       "data": [
        [
         "HR",
         50001
        ],
        [
         "HR",
         60001
        ],
        [
         "IT",
         75001
        ],
        [
         "IT",
         80001
        ],
        [
         "Finance",
         65001
        ],
        [
         "Finance",
         70001
        ],
        [
         "Marketing",
         55001
        ],
        [
         "Marketing",
         72001
        ]
       ],
       "datasetInfos": [],
       "dbfsResultPath": null,
       "isJsonSchema": true,
       "metadata": {},
       "overflow": false,
       "plotOptions": {
        "customPlotOptions": {},
        "displayType": "table",
        "pivotAggregation": null,
        "pivotColumns": null,
        "xColumns": null,
        "yColumns": null
       },
       "removedWidgets": [],
       "schema": [
        {
         "metadata": "{}",
         "name": "Department",
         "type": "\"string\""
        },
        {
         "metadata": "{}",
         "name": "addedsalary",
         "type": "\"integer\""
        }
       ],
       "type": "table"
      }
     },
     "output_type": "display_data"
    }
   ],
   "source": [
    "from pyspark.sql.functions import *\n",
    "addition = read_csv.select(\"Department\", (col(\"Salary\") + 1).alias(\"addedsalary\"))\n",
    "\n",
    "display(addition)"
   ]
  },
  {
   "cell_type": "code",
   "execution_count": 0,
   "metadata": {
    "application/vnd.databricks.v1+cell": {
     "cellMetadata": {
      "byteLimit": 2048000,
      "rowLimit": 10000
     },
     "inputWidgets": {},
     "nuid": "b46a9da0-3ffb-49cb-890f-2cf25306e47b",
     "showTitle": false,
     "tableResultSettingsMap": {},
     "title": ""
    }
   },
   "outputs": [
    {
     "output_type": "display_data",
     "data": {
      "text/html": [
       "<style scoped>\n",
       "  .table-result-container {\n",
       "    max-height: 300px;\n",
       "    overflow: auto;\n",
       "  }\n",
       "  table, th, td {\n",
       "    border: 1px solid black;\n",
       "    border-collapse: collapse;\n",
       "  }\n",
       "  th, td {\n",
       "    padding: 5px;\n",
       "  }\n",
       "  th {\n",
       "    text-align: left;\n",
       "  }\n",
       "</style><div class='table-result-container'><table class='table-result'><thead style='background-color: white'><tr><th>Department</th><th>Employee</th><th>Salary</th><th>Age</th><th>Joining_Date</th><th>Grade</th></tr></thead><tbody><tr><td>HR</td><td>John</td><td>50000</td><td>28</td><td>2020-01-15</td><td>1.6</td></tr><tr><td>HR</td><td>Jane</td><td>60000</td><td>34</td><td>2019-03-23</td><td>1.6</td></tr><tr><td>IT</td><td>Mike</td><td>75000</td><td>29</td><td>2021-06-01</td><td>1.6</td></tr><tr><td>IT</td><td>Anna</td><td>80000</td><td>31</td><td>2018-07-19</td><td>1.6</td></tr><tr><td>Finance</td><td>Sara</td><td>65000</td><td>45</td><td>2017-11-30</td><td>1.6</td></tr><tr><td>Finance</td><td>Tom</td><td>70000</td><td>41</td><td>2016-09-15</td><td>1.6</td></tr><tr><td>Marketing</td><td>Nina</td><td>55000</td><td>26</td><td>2022-02-10</td><td>1.6</td></tr><tr><td>Marketing</td><td>Alex</td><td>72000</td><td>30</td><td>2019-12-05</td><td>1.6</td></tr></tbody></table></div>"
      ]
     },
     "metadata": {
      "application/vnd.databricks.v1+output": {
       "addedWidgets": {},
       "aggData": [],
       "aggError": "",
       "aggOverflow": false,
       "aggSchema": [],
       "aggSeriesLimitReached": false,
       "aggType": "",
       "arguments": {},
       "columnCustomDisplayInfos": {},
       "data": [
        [
         "HR",
         "John",
         50000,
         28,
         "2020-01-15",
         "1.6"
        ],
        [
         "HR",
         "Jane",
         60000,
         34,
         "2019-03-23",
         "1.6"
        ],
        [
         "IT",
         "Mike",
         75000,
         29,
         "2021-06-01",
         "1.6"
        ],
        [
         "IT",
         "Anna",
         80000,
         31,
         "2018-07-19",
         "1.6"
        ],
        [
         "Finance",
         "Sara",
         65000,
         45,
         "2017-11-30",
         "1.6"
        ],
        [
         "Finance",
         "Tom",
         70000,
         41,
         "2016-09-15",
         "1.6"
        ],
        [
         "Marketing",
         "Nina",
         55000,
         26,
         "2022-02-10",
         "1.6"
        ],
        [
         "Marketing",
         "Alex",
         72000,
         30,
         "2019-12-05",
         "1.6"
        ]
       ],
       "datasetInfos": [],
       "dbfsResultPath": null,
       "isJsonSchema": true,
       "metadata": {},
       "overflow": false,
       "plotOptions": {
        "customPlotOptions": {},
        "displayType": "table",
        "pivotAggregation": null,
        "pivotColumns": null,
        "xColumns": null,
        "yColumns": null
       },
       "removedWidgets": [],
       "schema": [
        {
         "metadata": "{}",
         "name": "Department",
         "type": "\"string\""
        },
        {
         "metadata": "{}",
         "name": "Employee",
         "type": "\"string\""
        },
        {
         "metadata": "{}",
         "name": "Salary",
         "type": "\"integer\""
        },
        {
         "metadata": "{}",
         "name": "Age",
         "type": "\"integer\""
        },
        {
         "metadata": "{\"__detected_date_formats\":\"yyyy-M-d\"}",
         "name": "Joining_Date",
         "type": "\"date\""
        },
        {
         "metadata": "{}",
         "name": "Grade",
         "type": "\"string\""
        }
       ],
       "type": "table"
      }
     },
     "output_type": "display_data"
    }
   ],
   "source": [
    "lit = read_csv.withColumn(\"Grade\", lit(\"1.6\"))\n",
    "\n",
    "display(lit)"
   ]
  },
  {
   "cell_type": "code",
   "execution_count": 0,
   "metadata": {
    "application/vnd.databricks.v1+cell": {
     "cellMetadata": {
      "byteLimit": 2048000,
      "rowLimit": 10000
     },
     "inputWidgets": {},
     "nuid": "b686585f-5625-402c-b970-e7dd99c6893c",
     "showTitle": false,
     "tableResultSettingsMap": {},
     "title": ""
    }
   },
   "outputs": [
    {
     "output_type": "display_data",
     "data": {
      "text/html": [
       "<style scoped>\n",
       "  .table-result-container {\n",
       "    max-height: 300px;\n",
       "    overflow: auto;\n",
       "  }\n",
       "  table, th, td {\n",
       "    border: 1px solid black;\n",
       "    border-collapse: collapse;\n",
       "  }\n",
       "  th, td {\n",
       "    padding: 5px;\n",
       "  }\n",
       "  th {\n",
       "    text-align: left;\n",
       "  }\n",
       "</style><div class='table-result-container'><table class='table-result'><thead style='background-color: white'><tr><th>Department</th><th>CASE WHEN (Salary > 60000) THEN true END</th></tr></thead><tbody><tr><td>HR</td><td>null</td></tr><tr><td>HR</td><td>null</td></tr><tr><td>IT</td><td>true</td></tr><tr><td>IT</td><td>true</td></tr><tr><td>Finance</td><td>true</td></tr><tr><td>Finance</td><td>true</td></tr><tr><td>Marketing</td><td>null</td></tr><tr><td>Marketing</td><td>true</td></tr></tbody></table></div>"
      ]
     },
     "metadata": {
      "application/vnd.databricks.v1+output": {
       "addedWidgets": {},
       "aggData": [],
       "aggError": "",
       "aggOverflow": false,
       "aggSchema": [],
       "aggSeriesLimitReached": false,
       "aggType": "",
       "arguments": {},
       "columnCustomDisplayInfos": {},
       "data": [
        [
         "HR",
         null
        ],
        [
         "HR",
         null
        ],
        [
         "IT",
         "true"
        ],
        [
         "IT",
         "true"
        ],
        [
         "Finance",
         "true"
        ],
        [
         "Finance",
         "true"
        ],
        [
         "Marketing",
         null
        ],
        [
         "Marketing",
         "true"
        ]
       ],
       "datasetInfos": [],
       "dbfsResultPath": null,
       "isJsonSchema": true,
       "metadata": {},
       "overflow": false,
       "plotOptions": {
        "customPlotOptions": {},
        "displayType": "table",
        "pivotAggregation": null,
        "pivotColumns": null,
        "xColumns": null,
        "yColumns": null
       },
       "removedWidgets": [],
       "schema": [
        {
         "metadata": "{}",
         "name": "Department",
         "type": "\"string\""
        },
        {
         "metadata": "{}",
         "name": "CASE WHEN (Salary > 60000) THEN true END",
         "type": "\"string\""
        }
       ],
       "type": "table"
      }
     },
     "output_type": "display_data"
    }
   ],
   "source": [
    "when1 = read_csv.select(\"Department\", when(col(\"Salary\") > 60000,\"true\"))\n",
    "display(when1)"
   ]
  },
  {
   "cell_type": "code",
   "execution_count": 0,
   "metadata": {
    "application/vnd.databricks.v1+cell": {
     "cellMetadata": {
      "byteLimit": 2048000,
      "rowLimit": 10000
     },
     "inputWidgets": {},
     "nuid": "333be84f-d4e0-4fa0-ad96-7bb817233ed8",
     "showTitle": false,
     "tableResultSettingsMap": {},
     "title": ""
    }
   },
   "outputs": [
    {
     "output_type": "display_data",
     "data": {
      "text/html": [
       "<style scoped>\n",
       "  .table-result-container {\n",
       "    max-height: 300px;\n",
       "    overflow: auto;\n",
       "  }\n",
       "  table, th, td {\n",
       "    border: 1px solid black;\n",
       "    border-collapse: collapse;\n",
       "  }\n",
       "  th, td {\n",
       "    padding: 5px;\n",
       "  }\n",
       "  th {\n",
       "    text-align: left;\n",
       "  }\n",
       "</style><div class='table-result-container'><table class='table-result'><thead style='background-color: white'><tr><th>Department</th><th>Salary_count</th><th>max_salary</th><th>min_salary</th><th>sum_salary</th><th>avg_salary</th><th>mean_Salary</th><th>mode_salary</th></tr></thead><tbody><tr><td>HR</td><td>2</td><td>60000</td><td>50000</td><td>110000</td><td>55000.0</td><td>55000.0</td><td>50000</td></tr><tr><td>Finance</td><td>2</td><td>70000</td><td>65000</td><td>135000</td><td>67500.0</td><td>67500.0</td><td>70000</td></tr><tr><td>Marketing</td><td>2</td><td>72000</td><td>55000</td><td>127000</td><td>63500.0</td><td>63500.0</td><td>55000</td></tr><tr><td>IT</td><td>2</td><td>80000</td><td>75000</td><td>155000</td><td>77500.0</td><td>77500.0</td><td>75000</td></tr></tbody></table></div>"
      ]
     },
     "metadata": {
      "application/vnd.databricks.v1+output": {
       "addedWidgets": {},
       "aggData": [],
       "aggError": "",
       "aggOverflow": false,
       "aggSchema": [],
       "aggSeriesLimitReached": false,
       "aggType": "",
       "arguments": {},
       "columnCustomDisplayInfos": {},
       "data": [
        [
         "HR",
         2,
         60000,
         50000,
         110000,
         55000.0,
         55000.0,
         50000
        ],
        [
         "Finance",
         2,
         70000,
         65000,
         135000,
         67500.0,
         67500.0,
         70000
        ],
        [
         "Marketing",
         2,
         72000,
         55000,
         127000,
         63500.0,
         63500.0,
         55000
        ],
        [
         "IT",
         2,
         80000,
         75000,
         155000,
         77500.0,
         77500.0,
         75000
        ]
       ],
       "datasetInfos": [],
       "dbfsResultPath": null,
       "isJsonSchema": true,
       "metadata": {},
       "overflow": false,
       "plotOptions": {
        "customPlotOptions": {},
        "displayType": "table",
        "pivotAggregation": null,
        "pivotColumns": null,
        "xColumns": null,
        "yColumns": null
       },
       "removedWidgets": [],
       "schema": [
        {
         "metadata": "{}",
         "name": "Department",
         "type": "\"string\""
        },
        {
         "metadata": "{}",
         "name": "Salary_count",
         "type": "\"long\""
        },
        {
         "metadata": "{}",
         "name": "max_salary",
         "type": "\"integer\""
        },
        {
         "metadata": "{}",
         "name": "min_salary",
         "type": "\"integer\""
        },
        {
         "metadata": "{}",
         "name": "sum_salary",
         "type": "\"long\""
        },
        {
         "metadata": "{}",
         "name": "avg_salary",
         "type": "\"double\""
        },
        {
         "metadata": "{}",
         "name": "mean_Salary",
         "type": "\"double\""
        },
        {
         "metadata": "{}",
         "name": "mode_salary",
         "type": "\"integer\""
        }
       ],
       "type": "table"
      }
     },
     "output_type": "display_data"
    }
   ],
   "source": [
    "\n",
    "agg = read_csv.groupBy(\"Department\")\\\n",
    ".agg(count(\"Salary\").alias(\"Salary_count\"),\n",
    "     max(\"Salary\").alias(\"max_salary\"),\n",
    "     min(\"Salary\").alias(\"min_salary\"),\n",
    "     sum(\"Salary\").alias(\"sum_salary\"),\n",
    "     avg(\"Salary\").alias(\"avg_salary\"),\n",
    "     mean(\"Salary\").alias(\"mean_Salary\"),\n",
    "     mode(\"Salary\").alias(\"mode_salary\") ##value that appears most frequently or smallest\n",
    "     )\n",
    "\n",
    "display(agg)"
   ]
  },
  {
   "cell_type": "code",
   "execution_count": 0,
   "metadata": {
    "application/vnd.databricks.v1+cell": {
     "cellMetadata": {
      "byteLimit": 2048000,
      "rowLimit": 10000
     },
     "inputWidgets": {},
     "nuid": "153e888f-2101-4c1d-b425-715f4230463f",
     "showTitle": false,
     "tableResultSettingsMap": {},
     "title": ""
    }
   },
   "outputs": [
    {
     "output_type": "display_data",
     "data": {
      "text/html": [
       "<style scoped>\n",
       "  .table-result-container {\n",
       "    max-height: 300px;\n",
       "    overflow: auto;\n",
       "  }\n",
       "  table, th, td {\n",
       "    border: 1px solid black;\n",
       "    border-collapse: collapse;\n",
       "  }\n",
       "  th, td {\n",
       "    padding: 5px;\n",
       "  }\n",
       "  th {\n",
       "    text-align: left;\n",
       "  }\n",
       "</style><div class='table-result-container'><table class='table-result'><thead style='background-color: white'><tr><th>Department</th><th>Employee</th><th>Salary</th><th>Age</th><th>Joining_Date</th><th>Grade</th><th>rounded</th></tr></thead><tbody><tr><td>HR</td><td>John</td><td>50000</td><td>28</td><td>2020-01-15</td><td>1.6</td><td>2.0</td></tr><tr><td>HR</td><td>Jane</td><td>60000</td><td>34</td><td>2019-03-23</td><td>1.6</td><td>2.0</td></tr><tr><td>IT</td><td>Mike</td><td>75000</td><td>29</td><td>2021-06-01</td><td>1.6</td><td>2.0</td></tr><tr><td>IT</td><td>Anna</td><td>80000</td><td>31</td><td>2018-07-19</td><td>1.6</td><td>2.0</td></tr><tr><td>Finance</td><td>Sara</td><td>65000</td><td>45</td><td>2017-11-30</td><td>1.6</td><td>2.0</td></tr><tr><td>Finance</td><td>Tom</td><td>70000</td><td>41</td><td>2016-09-15</td><td>1.6</td><td>2.0</td></tr><tr><td>Marketing</td><td>Nina</td><td>55000</td><td>26</td><td>2022-02-10</td><td>1.6</td><td>2.0</td></tr><tr><td>Marketing</td><td>Alex</td><td>72000</td><td>30</td><td>2019-12-05</td><td>1.6</td><td>2.0</td></tr></tbody></table></div>"
      ]
     },
     "metadata": {
      "application/vnd.databricks.v1+output": {
       "addedWidgets": {},
       "aggData": [],
       "aggError": "",
       "aggOverflow": false,
       "aggSchema": [],
       "aggSeriesLimitReached": false,
       "aggType": "",
       "arguments": {},
       "columnCustomDisplayInfos": {},
       "data": [
        [
         "HR",
         "John",
         50000,
         28,
         "2020-01-15",
         "1.6",
         2.0
        ],
        [
         "HR",
         "Jane",
         60000,
         34,
         "2019-03-23",
         "1.6",
         2.0
        ],
        [
         "IT",
         "Mike",
         75000,
         29,
         "2021-06-01",
         "1.6",
         2.0
        ],
        [
         "IT",
         "Anna",
         80000,
         31,
         "2018-07-19",
         "1.6",
         2.0
        ],
        [
         "Finance",
         "Sara",
         65000,
         45,
         "2017-11-30",
         "1.6",
         2.0
        ],
        [
         "Finance",
         "Tom",
         70000,
         41,
         "2016-09-15",
         "1.6",
         2.0
        ],
        [
         "Marketing",
         "Nina",
         55000,
         26,
         "2022-02-10",
         "1.6",
         2.0
        ],
        [
         "Marketing",
         "Alex",
         72000,
         30,
         "2019-12-05",
         "1.6",
         2.0
        ]
       ],
       "datasetInfos": [],
       "dbfsResultPath": null,
       "isJsonSchema": true,
       "metadata": {},
       "overflow": false,
       "plotOptions": {
        "customPlotOptions": {},
        "displayType": "table",
        "pivotAggregation": null,
        "pivotColumns": null,
        "xColumns": null,
        "yColumns": null
       },
       "removedWidgets": [],
       "schema": [
        {
         "metadata": "{}",
         "name": "Department",
         "type": "\"string\""
        },
        {
         "metadata": "{}",
         "name": "Employee",
         "type": "\"string\""
        },
        {
         "metadata": "{}",
         "name": "Salary",
         "type": "\"integer\""
        },
        {
         "metadata": "{}",
         "name": "Age",
         "type": "\"integer\""
        },
        {
         "metadata": "{\"__detected_date_formats\":\"yyyy-M-d\"}",
         "name": "Joining_Date",
         "type": "\"date\""
        },
        {
         "metadata": "{}",
         "name": "Grade",
         "type": "\"string\""
        },
        {
         "metadata": "{}",
         "name": "rounded",
         "type": "\"double\""
        }
       ],
       "type": "table"
      }
     },
     "output_type": "display_data"
    }
   ],
   "source": [
    "round1 = lit.withColumn(\"rounded\", round(col(\"Grade\")))\n",
    "display(round1)"
   ]
  },
  {
   "cell_type": "code",
   "execution_count": 0,
   "metadata": {
    "application/vnd.databricks.v1+cell": {
     "cellMetadata": {
      "byteLimit": 2048000,
      "rowLimit": 10000
     },
     "inputWidgets": {},
     "nuid": "416108c7-8010-4abd-850d-3de25444d4ec",
     "showTitle": false,
     "tableResultSettingsMap": {},
     "title": ""
    }
   },
   "outputs": [
    {
     "output_type": "display_data",
     "data": {
      "text/html": [
       "<style scoped>\n",
       "  .table-result-container {\n",
       "    max-height: 300px;\n",
       "    overflow: auto;\n",
       "  }\n",
       "  table, th, td {\n",
       "    border: 1px solid black;\n",
       "    border-collapse: collapse;\n",
       "  }\n",
       "  th, td {\n",
       "    padding: 5px;\n",
       "  }\n",
       "  th {\n",
       "    text-align: left;\n",
       "  }\n",
       "</style><div class='table-result-container'><table class='table-result'><thead style='background-color: white'><tr><th>Department</th><th>Employee</th><th>Salary</th><th>Age</th><th>Joining_Date</th><th>Grade</th><th>sub</th></tr></thead><tbody><tr><td>HR</td><td>John</td><td>50000</td><td>28</td><td>2020-01-15</td><td>1.6</td><td>-49972</td></tr><tr><td>HR</td><td>Jane</td><td>60000</td><td>34</td><td>2019-03-23</td><td>1.6</td><td>-59966</td></tr><tr><td>IT</td><td>Mike</td><td>75000</td><td>29</td><td>2021-06-01</td><td>1.6</td><td>-74971</td></tr><tr><td>IT</td><td>Anna</td><td>80000</td><td>31</td><td>2018-07-19</td><td>1.6</td><td>-79969</td></tr><tr><td>Finance</td><td>Sara</td><td>65000</td><td>45</td><td>2017-11-30</td><td>1.6</td><td>-64955</td></tr><tr><td>Finance</td><td>Tom</td><td>70000</td><td>41</td><td>2016-09-15</td><td>1.6</td><td>-69959</td></tr><tr><td>Marketing</td><td>Nina</td><td>55000</td><td>26</td><td>2022-02-10</td><td>1.6</td><td>-54974</td></tr><tr><td>Marketing</td><td>Alex</td><td>72000</td><td>30</td><td>2019-12-05</td><td>1.6</td><td>-71970</td></tr></tbody></table></div>"
      ]
     },
     "metadata": {
      "application/vnd.databricks.v1+output": {
       "addedWidgets": {},
       "aggData": [],
       "aggError": "",
       "aggOverflow": false,
       "aggSchema": [],
       "aggSeriesLimitReached": false,
       "aggType": "",
       "arguments": {},
       "columnCustomDisplayInfos": {},
       "data": [
        [
         "HR",
         "John",
         50000,
         28,
         "2020-01-15",
         "1.6",
         -49972
        ],
        [
         "HR",
         "Jane",
         60000,
         34,
         "2019-03-23",
         "1.6",
         -59966
        ],
        [
         "IT",
         "Mike",
         75000,
         29,
         "2021-06-01",
         "1.6",
         -74971
        ],
        [
         "IT",
         "Anna",
         80000,
         31,
         "2018-07-19",
         "1.6",
         -79969
        ],
        [
         "Finance",
         "Sara",
         65000,
         45,
         "2017-11-30",
         "1.6",
         -64955
        ],
        [
         "Finance",
         "Tom",
         70000,
         41,
         "2016-09-15",
         "1.6",
         -69959
        ],
        [
         "Marketing",
         "Nina",
         55000,
         26,
         "2022-02-10",
         "1.6",
         -54974
        ],
        [
         "Marketing",
         "Alex",
         72000,
         30,
         "2019-12-05",
         "1.6",
         -71970
        ]
       ],
       "datasetInfos": [],
       "dbfsResultPath": null,
       "isJsonSchema": true,
       "metadata": {},
       "overflow": false,
       "plotOptions": {
        "customPlotOptions": {},
        "displayType": "table",
        "pivotAggregation": null,
        "pivotColumns": null,
        "xColumns": null,
        "yColumns": null
       },
       "removedWidgets": [],
       "schema": [
        {
         "metadata": "{}",
         "name": "Department",
         "type": "\"string\""
        },
        {
         "metadata": "{}",
         "name": "Employee",
         "type": "\"string\""
        },
        {
         "metadata": "{}",
         "name": "Salary",
         "type": "\"integer\""
        },
        {
         "metadata": "{}",
         "name": "Age",
         "type": "\"integer\""
        },
        {
         "metadata": "{\"__detected_date_formats\":\"yyyy-M-d\"}",
         "name": "Joining_Date",
         "type": "\"date\""
        },
        {
         "metadata": "{}",
         "name": "Grade",
         "type": "\"string\""
        },
        {
         "metadata": "{}",
         "name": "sub",
         "type": "\"integer\""
        }
       ],
       "type": "table"
      }
     },
     "output_type": "display_data"
    }
   ],
   "source": [
    "subtraction = lit.withColumn(\"sub\", col(\"Age\") - col(\"Salary\"))\n",
    "\n",
    "display(subtraction)"
   ]
  },
  {
   "cell_type": "code",
   "execution_count": 0,
   "metadata": {
    "application/vnd.databricks.v1+cell": {
     "cellMetadata": {
      "byteLimit": 2048000,
      "rowLimit": 10000
     },
     "inputWidgets": {},
     "nuid": "227a491c-26b3-4ea3-be5c-151e9a0080a9",
     "showTitle": false,
     "tableResultSettingsMap": {},
     "title": ""
    }
   },
   "outputs": [
    {
     "output_type": "display_data",
     "data": {
      "text/html": [
       "<style scoped>\n",
       "  .table-result-container {\n",
       "    max-height: 300px;\n",
       "    overflow: auto;\n",
       "  }\n",
       "  table, th, td {\n",
       "    border: 1px solid black;\n",
       "    border-collapse: collapse;\n",
       "  }\n",
       "  th, td {\n",
       "    padding: 5px;\n",
       "  }\n",
       "  th {\n",
       "    text-align: left;\n",
       "  }\n",
       "</style><div class='table-result-container'><table class='table-result'><thead style='background-color: white'><tr><th>Department</th><th>Employee</th><th>Salary</th><th>Age</th><th>Joining_Date</th><th>Grade</th><th>sub</th><th>abs</th></tr></thead><tbody><tr><td>HR</td><td>John</td><td>50000</td><td>28</td><td>2020-01-15</td><td>1.6</td><td>-49972</td><td>49972</td></tr><tr><td>HR</td><td>Jane</td><td>60000</td><td>34</td><td>2019-03-23</td><td>1.6</td><td>-59966</td><td>59966</td></tr><tr><td>IT</td><td>Mike</td><td>75000</td><td>29</td><td>2021-06-01</td><td>1.6</td><td>-74971</td><td>74971</td></tr><tr><td>IT</td><td>Anna</td><td>80000</td><td>31</td><td>2018-07-19</td><td>1.6</td><td>-79969</td><td>79969</td></tr><tr><td>Finance</td><td>Sara</td><td>65000</td><td>45</td><td>2017-11-30</td><td>1.6</td><td>-64955</td><td>64955</td></tr><tr><td>Finance</td><td>Tom</td><td>70000</td><td>41</td><td>2016-09-15</td><td>1.6</td><td>-69959</td><td>69959</td></tr><tr><td>Marketing</td><td>Nina</td><td>55000</td><td>26</td><td>2022-02-10</td><td>1.6</td><td>-54974</td><td>54974</td></tr><tr><td>Marketing</td><td>Alex</td><td>72000</td><td>30</td><td>2019-12-05</td><td>1.6</td><td>-71970</td><td>71970</td></tr></tbody></table></div>"
      ]
     },
     "metadata": {
      "application/vnd.databricks.v1+output": {
       "addedWidgets": {},
       "aggData": [],
       "aggError": "",
       "aggOverflow": false,
       "aggSchema": [],
       "aggSeriesLimitReached": false,
       "aggType": "",
       "arguments": {},
       "columnCustomDisplayInfos": {},
       "data": [
        [
         "HR",
         "John",
         50000,
         28,
         "2020-01-15",
         "1.6",
         -49972,
         49972
        ],
        [
         "HR",
         "Jane",
         60000,
         34,
         "2019-03-23",
         "1.6",
         -59966,
         59966
        ],
        [
         "IT",
         "Mike",
         75000,
         29,
         "2021-06-01",
         "1.6",
         -74971,
         74971
        ],
        [
         "IT",
         "Anna",
         80000,
         31,
         "2018-07-19",
         "1.6",
         -79969,
         79969
        ],
        [
         "Finance",
         "Sara",
         65000,
         45,
         "2017-11-30",
         "1.6",
         -64955,
         64955
        ],
        [
         "Finance",
         "Tom",
         70000,
         41,
         "2016-09-15",
         "1.6",
         -69959,
         69959
        ],
        [
         "Marketing",
         "Nina",
         55000,
         26,
         "2022-02-10",
         "1.6",
         -54974,
         54974
        ],
        [
         "Marketing",
         "Alex",
         72000,
         30,
         "2019-12-05",
         "1.6",
         -71970,
         71970
        ]
       ],
       "datasetInfos": [],
       "dbfsResultPath": null,
       "isJsonSchema": true,
       "metadata": {},
       "overflow": false,
       "plotOptions": {
        "customPlotOptions": {},
        "displayType": "table",
        "pivotAggregation": null,
        "pivotColumns": null,
        "xColumns": null,
        "yColumns": null
       },
       "removedWidgets": [],
       "schema": [
        {
         "metadata": "{}",
         "name": "Department",
         "type": "\"string\""
        },
        {
         "metadata": "{}",
         "name": "Employee",
         "type": "\"string\""
        },
        {
         "metadata": "{}",
         "name": "Salary",
         "type": "\"integer\""
        },
        {
         "metadata": "{}",
         "name": "Age",
         "type": "\"integer\""
        },
        {
         "metadata": "{\"__detected_date_formats\":\"yyyy-M-d\"}",
         "name": "Joining_Date",
         "type": "\"date\""
        },
        {
         "metadata": "{}",
         "name": "Grade",
         "type": "\"string\""
        },
        {
         "metadata": "{}",
         "name": "sub",
         "type": "\"integer\""
        },
        {
         "metadata": "{}",
         "name": "abs",
         "type": "\"integer\""
        }
       ],
       "type": "table"
      }
     },
     "output_type": "display_data"
    }
   ],
   "source": [
    "abs1 = subtraction.withColumn('abs', abs(col(\"sub\").alias(\"abs\")))\n",
    "\n",
    "display(abs1)"
   ]
  },
  {
   "cell_type": "code",
   "execution_count": 0,
   "metadata": {
    "application/vnd.databricks.v1+cell": {
     "cellMetadata": {
      "byteLimit": 2048000,
      "rowLimit": 10000
     },
     "inputWidgets": {},
     "nuid": "44c81a0e-cdcf-4ffb-aabd-eb1b4499ed1e",
     "showTitle": false,
     "tableResultSettingsMap": {},
     "title": ""
    }
   },
   "outputs": [
    {
     "output_type": "display_data",
     "data": {
      "text/html": [
       "<style scoped>\n",
       "  .table-result-container {\n",
       "    max-height: 300px;\n",
       "    overflow: auto;\n",
       "  }\n",
       "  table, th, td {\n",
       "    border: 1px solid black;\n",
       "    border-collapse: collapse;\n",
       "  }\n",
       "  th, td {\n",
       "    padding: 5px;\n",
       "  }\n",
       "  th {\n",
       "    text-align: left;\n",
       "  }\n",
       "</style><div class='table-result-container'><table class='table-result'><thead style='background-color: white'><tr><th>Department</th><th>Employee</th><th>Salary</th><th>Age</th><th>Joining_Date</th><th>Grade</th><th>sqrt</th></tr></thead><tbody><tr><td>HR</td><td>John</td><td>50000</td><td>28</td><td>2020-01-15</td><td>1.6</td><td>5.291502622129181</td></tr><tr><td>HR</td><td>Jane</td><td>60000</td><td>34</td><td>2019-03-23</td><td>1.6</td><td>5.830951894845301</td></tr><tr><td>IT</td><td>Mike</td><td>75000</td><td>29</td><td>2021-06-01</td><td>1.6</td><td>5.385164807134504</td></tr><tr><td>IT</td><td>Anna</td><td>80000</td><td>31</td><td>2018-07-19</td><td>1.6</td><td>5.5677643628300215</td></tr><tr><td>Finance</td><td>Sara</td><td>65000</td><td>45</td><td>2017-11-30</td><td>1.6</td><td>6.708203932499369</td></tr><tr><td>Finance</td><td>Tom</td><td>70000</td><td>41</td><td>2016-09-15</td><td>1.6</td><td>6.4031242374328485</td></tr><tr><td>Marketing</td><td>Nina</td><td>55000</td><td>26</td><td>2022-02-10</td><td>1.6</td><td>5.0990195135927845</td></tr><tr><td>Marketing</td><td>Alex</td><td>72000</td><td>30</td><td>2019-12-05</td><td>1.6</td><td>5.477225575051661</td></tr></tbody></table></div>"
      ]
     },
     "metadata": {
      "application/vnd.databricks.v1+output": {
       "addedWidgets": {},
       "aggData": [],
       "aggError": "",
       "aggOverflow": false,
       "aggSchema": [],
       "aggSeriesLimitReached": false,
       "aggType": "",
       "arguments": {},
       "columnCustomDisplayInfos": {},
       "data": [
        [
         "HR",
         "John",
         50000,
         28,
         "2020-01-15",
         "1.6",
         5.291502622129181
        ],
        [
         "HR",
         "Jane",
         60000,
         34,
         "2019-03-23",
         "1.6",
         5.830951894845301
        ],
        [
         "IT",
         "Mike",
         75000,
         29,
         "2021-06-01",
         "1.6",
         5.385164807134504
        ],
        [
         "IT",
         "Anna",
         80000,
         31,
         "2018-07-19",
         "1.6",
         5.5677643628300215
        ],
        [
         "Finance",
         "Sara",
         65000,
         45,
         "2017-11-30",
         "1.6",
         6.708203932499369
        ],
        [
         "Finance",
         "Tom",
         70000,
         41,
         "2016-09-15",
         "1.6",
         6.4031242374328485
        ],
        [
         "Marketing",
         "Nina",
         55000,
         26,
         "2022-02-10",
         "1.6",
         5.0990195135927845
        ],
        [
         "Marketing",
         "Alex",
         72000,
         30,
         "2019-12-05",
         "1.6",
         5.477225575051661
        ]
       ],
       "datasetInfos": [],
       "dbfsResultPath": null,
       "isJsonSchema": true,
       "metadata": {},
       "overflow": false,
       "plotOptions": {
        "customPlotOptions": {},
        "displayType": "table",
        "pivotAggregation": null,
        "pivotColumns": null,
        "xColumns": null,
        "yColumns": null
       },
       "removedWidgets": [],
       "schema": [
        {
         "metadata": "{}",
         "name": "Department",
         "type": "\"string\""
        },
        {
         "metadata": "{}",
         "name": "Employee",
         "type": "\"string\""
        },
        {
         "metadata": "{}",
         "name": "Salary",
         "type": "\"integer\""
        },
        {
         "metadata": "{}",
         "name": "Age",
         "type": "\"integer\""
        },
        {
         "metadata": "{\"__detected_date_formats\":\"yyyy-M-d\"}",
         "name": "Joining_Date",
         "type": "\"date\""
        },
        {
         "metadata": "{}",
         "name": "Grade",
         "type": "\"string\""
        },
        {
         "metadata": "{}",
         "name": "sqrt",
         "type": "\"double\""
        }
       ],
       "type": "table"
      }
     },
     "output_type": "display_data"
    }
   ],
   "source": [
    "sqrt = lit.withColumn(\"sqrt\", sqrt(col(\"age\")))\n",
    "\n",
    "display(sqrt)"
   ]
  },
  {
   "cell_type": "code",
   "execution_count": 0,
   "metadata": {
    "application/vnd.databricks.v1+cell": {
     "cellMetadata": {
      "byteLimit": 2048000,
      "rowLimit": 10000
     },
     "inputWidgets": {},
     "nuid": "15dd7871-62ff-48a0-b852-318ce1b258a4",
     "showTitle": false,
     "tableResultSettingsMap": {},
     "title": ""
    }
   },
   "outputs": [
    {
     "output_type": "display_data",
     "data": {
      "text/html": [
       "<style scoped>\n",
       "  .table-result-container {\n",
       "    max-height: 300px;\n",
       "    overflow: auto;\n",
       "  }\n",
       "  table, th, td {\n",
       "    border: 1px solid black;\n",
       "    border-collapse: collapse;\n",
       "  }\n",
       "  th, td {\n",
       "    padding: 5px;\n",
       "  }\n",
       "  th {\n",
       "    text-align: left;\n",
       "  }\n",
       "</style><div class='table-result-container'><table class='table-result'><thead style='background-color: white'><tr><th>Department</th><th>Employee</th><th>Salary</th><th>Age</th><th>Joining_Date</th><th>Grade</th><th>sqrt</th></tr></thead><tbody><tr><td>HR</td><td>John</td><td>50000</td><td>28</td><td>2020-01-15</td><td>1.6</td><td>5.291502622129181</td></tr><tr><td>HR</td><td>Jane</td><td>60000</td><td>34</td><td>2019-03-23</td><td>1.6</td><td>5.830951894845301</td></tr><tr><td>IT</td><td>Mike</td><td>75000</td><td>29</td><td>2021-06-01</td><td>1.6</td><td>5.385164807134504</td></tr><tr><td>IT</td><td>Anna</td><td>80000</td><td>31</td><td>2018-07-19</td><td>1.6</td><td>5.5677643628300215</td></tr><tr><td>Finance</td><td>Sara</td><td>65000</td><td>45</td><td>2017-11-30</td><td>1.6</td><td>6.708203932499369</td></tr><tr><td>Finance</td><td>Tom</td><td>70000</td><td>41</td><td>2016-09-15</td><td>1.6</td><td>6.4031242374328485</td></tr><tr><td>Marketing</td><td>Nina</td><td>55000</td><td>26</td><td>2022-02-10</td><td>1.6</td><td>5.0990195135927845</td></tr><tr><td>Marketing</td><td>Alex</td><td>72000</td><td>30</td><td>2019-12-05</td><td>1.6</td><td>5.477225575051661</td></tr></tbody></table></div>"
      ]
     },
     "metadata": {
      "application/vnd.databricks.v1+output": {
       "addedWidgets": {},
       "aggData": [],
       "aggError": "",
       "aggOverflow": false,
       "aggSchema": [],
       "aggSeriesLimitReached": false,
       "aggType": "",
       "arguments": {},
       "columnCustomDisplayInfos": {},
       "data": [
        [
         "HR",
         "John",
         50000,
         28,
         "2020-01-15",
         "1.6",
         5.291502622129181
        ],
        [
         "HR",
         "Jane",
         60000,
         34,
         "2019-03-23",
         "1.6",
         5.830951894845301
        ],
        [
         "IT",
         "Mike",
         75000,
         29,
         "2021-06-01",
         "1.6",
         5.385164807134504
        ],
        [
         "IT",
         "Anna",
         80000,
         31,
         "2018-07-19",
         "1.6",
         5.5677643628300215
        ],
        [
         "Finance",
         "Sara",
         65000,
         45,
         "2017-11-30",
         "1.6",
         6.708203932499369
        ],
        [
         "Finance",
         "Tom",
         70000,
         41,
         "2016-09-15",
         "1.6",
         6.4031242374328485
        ],
        [
         "Marketing",
         "Nina",
         55000,
         26,
         "2022-02-10",
         "1.6",
         5.0990195135927845
        ],
        [
         "Marketing",
         "Alex",
         72000,
         30,
         "2019-12-05",
         "1.6",
         5.477225575051661
        ]
       ],
       "datasetInfos": [],
       "dbfsResultPath": null,
       "isJsonSchema": true,
       "metadata": {},
       "overflow": false,
       "plotOptions": {
        "customPlotOptions": {},
        "displayType": "table",
        "pivotAggregation": null,
        "pivotColumns": null,
        "xColumns": null,
        "yColumns": null
       },
       "removedWidgets": [],
       "schema": [
        {
         "metadata": "{}",
         "name": "Department",
         "type": "\"string\""
        },
        {
         "metadata": "{}",
         "name": "Employee",
         "type": "\"string\""
        },
        {
         "metadata": "{}",
         "name": "Salary",
         "type": "\"integer\""
        },
        {
         "metadata": "{}",
         "name": "Age",
         "type": "\"integer\""
        },
        {
         "metadata": "{\"__detected_date_formats\":\"yyyy-M-d\"}",
         "name": "Joining_Date",
         "type": "\"date\""
        },
        {
         "metadata": "{}",
         "name": "Grade",
         "type": "\"string\""
        },
        {
         "metadata": "{}",
         "name": "sqrt",
         "type": "\"double\""
        }
       ],
       "type": "table"
      }
     },
     "output_type": "display_data"
    }
   ],
   "source": [
    "display(sqrt)"
   ]
  },
  {
   "cell_type": "code",
   "execution_count": 0,
   "metadata": {
    "application/vnd.databricks.v1+cell": {
     "cellMetadata": {
      "byteLimit": 2048000,
      "rowLimit": 10000
     },
     "inputWidgets": {},
     "nuid": "a8eb4b52-b64e-445e-845b-ef187c5735dd",
     "showTitle": false,
     "tableResultSettingsMap": {},
     "title": ""
    }
   },
   "outputs": [],
   "source": [
    "from pyspark.sql.functions import concat\n"
   ]
  },
  {
   "cell_type": "code",
   "execution_count": 0,
   "metadata": {
    "application/vnd.databricks.v1+cell": {
     "cellMetadata": {
      "byteLimit": 2048000,
      "rowLimit": 10000
     },
     "inputWidgets": {},
     "nuid": "a03fc3a9-f5b5-4096-8e55-a39af0261043",
     "showTitle": false,
     "tableResultSettingsMap": {},
     "title": ""
    }
   },
   "outputs": [
    {
     "output_type": "display_data",
     "data": {
      "text/html": [
       "<style scoped>\n",
       "  .table-result-container {\n",
       "    max-height: 300px;\n",
       "    overflow: auto;\n",
       "  }\n",
       "  table, th, td {\n",
       "    border: 1px solid black;\n",
       "    border-collapse: collapse;\n",
       "  }\n",
       "  th, td {\n",
       "    padding: 5px;\n",
       "  }\n",
       "  th {\n",
       "    text-align: left;\n",
       "  }\n",
       "</style><div class='table-result-container'><table class='table-result'><thead style='background-color: white'><tr><th>Department</th><th>Employee</th><th>Salary</th><th>Age</th><th>Joining_Date</th><th>Grade</th><th>sqrt</th><th>concat</th></tr></thead><tbody><tr><td>HR</td><td>John</td><td>50000</td><td>28</td><td>2020-01-15</td><td>1.6</td><td>5.291502622129181</td><td>John28</td></tr><tr><td>HR</td><td>Jane</td><td>60000</td><td>34</td><td>2019-03-23</td><td>1.6</td><td>5.830951894845301</td><td>Jane34</td></tr><tr><td>IT</td><td>Mike</td><td>75000</td><td>29</td><td>2021-06-01</td><td>1.6</td><td>5.385164807134504</td><td>Mike29</td></tr><tr><td>IT</td><td>Anna</td><td>80000</td><td>31</td><td>2018-07-19</td><td>1.6</td><td>5.5677643628300215</td><td>Anna31</td></tr><tr><td>Finance</td><td>Sara</td><td>65000</td><td>45</td><td>2017-11-30</td><td>1.6</td><td>6.708203932499369</td><td>Sara45</td></tr><tr><td>Finance</td><td>Tom</td><td>70000</td><td>41</td><td>2016-09-15</td><td>1.6</td><td>6.4031242374328485</td><td>Tom41</td></tr><tr><td>Marketing</td><td>Nina</td><td>55000</td><td>26</td><td>2022-02-10</td><td>1.6</td><td>5.0990195135927845</td><td>Nina26</td></tr><tr><td>Marketing</td><td>Alex</td><td>72000</td><td>30</td><td>2019-12-05</td><td>1.6</td><td>5.477225575051661</td><td>Alex30</td></tr></tbody></table></div>"
      ]
     },
     "metadata": {
      "application/vnd.databricks.v1+output": {
       "addedWidgets": {},
       "aggData": [],
       "aggError": "",
       "aggOverflow": false,
       "aggSchema": [],
       "aggSeriesLimitReached": false,
       "aggType": "",
       "arguments": {},
       "columnCustomDisplayInfos": {},
       "data": [
        [
         "HR",
         "John",
         50000,
         28,
         "2020-01-15",
         "1.6",
         5.291502622129181,
         "John28"
        ],
        [
         "HR",
         "Jane",
         60000,
         34,
         "2019-03-23",
         "1.6",
         5.830951894845301,
         "Jane34"
        ],
        [
         "IT",
         "Mike",
         75000,
         29,
         "2021-06-01",
         "1.6",
         5.385164807134504,
         "Mike29"
        ],
        [
         "IT",
         "Anna",
         80000,
         31,
         "2018-07-19",
         "1.6",
         5.5677643628300215,
         "Anna31"
        ],
        [
         "Finance",
         "Sara",
         65000,
         45,
         "2017-11-30",
         "1.6",
         6.708203932499369,
         "Sara45"
        ],
        [
         "Finance",
         "Tom",
         70000,
         41,
         "2016-09-15",
         "1.6",
         6.4031242374328485,
         "Tom41"
        ],
        [
         "Marketing",
         "Nina",
         55000,
         26,
         "2022-02-10",
         "1.6",
         5.0990195135927845,
         "Nina26"
        ],
        [
         "Marketing",
         "Alex",
         72000,
         30,
         "2019-12-05",
         "1.6",
         5.477225575051661,
         "Alex30"
        ]
       ],
       "datasetInfos": [],
       "dbfsResultPath": null,
       "isJsonSchema": true,
       "metadata": {},
       "overflow": false,
       "plotOptions": {
        "customPlotOptions": {},
        "displayType": "table",
        "pivotAggregation": null,
        "pivotColumns": null,
        "xColumns": null,
        "yColumns": null
       },
       "removedWidgets": [],
       "schema": [
        {
         "metadata": "{}",
         "name": "Department",
         "type": "\"string\""
        },
        {
         "metadata": "{}",
         "name": "Employee",
         "type": "\"string\""
        },
        {
         "metadata": "{}",
         "name": "Salary",
         "type": "\"integer\""
        },
        {
         "metadata": "{}",
         "name": "Age",
         "type": "\"integer\""
        },
        {
         "metadata": "{\"__detected_date_formats\":\"yyyy-M-d\"}",
         "name": "Joining_Date",
         "type": "\"date\""
        },
        {
         "metadata": "{}",
         "name": "Grade",
         "type": "\"string\""
        },
        {
         "metadata": "{}",
         "name": "sqrt",
         "type": "\"double\""
        },
        {
         "metadata": "{}",
         "name": "concat",
         "type": "\"string\""
        }
       ],
       "type": "table"
      }
     },
     "output_type": "display_data"
    }
   ],
   "source": [
    "concatination = sqrt.withColumn(\"concat\", concat(col(\"Employee\"), col(\"Age\")))\n",
    "\n",
    "display(concatination)"
   ]
  },
  {
   "cell_type": "code",
   "execution_count": 0,
   "metadata": {
    "application/vnd.databricks.v1+cell": {
     "cellMetadata": {
      "byteLimit": 2048000,
      "rowLimit": 10000
     },
     "inputWidgets": {},
     "nuid": "98dd5b8d-3e82-4761-b8d6-ee5cc4a011f5",
     "showTitle": false,
     "tableResultSettingsMap": {},
     "title": ""
    }
   },
   "outputs": [
    {
     "output_type": "display_data",
     "data": {
      "text/html": [
       "<style scoped>\n",
       "  .table-result-container {\n",
       "    max-height: 300px;\n",
       "    overflow: auto;\n",
       "  }\n",
       "  table, th, td {\n",
       "    border: 1px solid black;\n",
       "    border-collapse: collapse;\n",
       "  }\n",
       "  th, td {\n",
       "    padding: 5px;\n",
       "  }\n",
       "  th {\n",
       "    text-align: left;\n",
       "  }\n",
       "</style><div class='table-result-container'><table class='table-result'><thead style='background-color: white'><tr><th>Department</th><th>Employee</th><th>Salary</th><th>Age</th><th>Joining_Date</th><th>Grade</th><th>sqrt</th><th>concatws</th></tr></thead><tbody><tr><td>HR</td><td>John</td><td>50000</td><td>28</td><td>2020-01-15</td><td>1.6</td><td>5.291502622129181</td><td>28/John</td></tr><tr><td>HR</td><td>Jane</td><td>60000</td><td>34</td><td>2019-03-23</td><td>1.6</td><td>5.830951894845301</td><td>34/Jane</td></tr><tr><td>IT</td><td>Mike</td><td>75000</td><td>29</td><td>2021-06-01</td><td>1.6</td><td>5.385164807134504</td><td>29/Mike</td></tr><tr><td>IT</td><td>Anna</td><td>80000</td><td>31</td><td>2018-07-19</td><td>1.6</td><td>5.5677643628300215</td><td>31/Anna</td></tr><tr><td>Finance</td><td>Sara</td><td>65000</td><td>45</td><td>2017-11-30</td><td>1.6</td><td>6.708203932499369</td><td>45/Sara</td></tr><tr><td>Finance</td><td>Tom</td><td>70000</td><td>41</td><td>2016-09-15</td><td>1.6</td><td>6.4031242374328485</td><td>41/Tom</td></tr><tr><td>Marketing</td><td>Nina</td><td>55000</td><td>26</td><td>2022-02-10</td><td>1.6</td><td>5.0990195135927845</td><td>26/Nina</td></tr><tr><td>Marketing</td><td>Alex</td><td>72000</td><td>30</td><td>2019-12-05</td><td>1.6</td><td>5.477225575051661</td><td>30/Alex</td></tr></tbody></table></div>"
      ]
     },
     "metadata": {
      "application/vnd.databricks.v1+output": {
       "addedWidgets": {},
       "aggData": [],
       "aggError": "",
       "aggOverflow": false,
       "aggSchema": [],
       "aggSeriesLimitReached": false,
       "aggType": "",
       "arguments": {},
       "columnCustomDisplayInfos": {},
       "data": [
        [
         "HR",
         "John",
         50000,
         28,
         "2020-01-15",
         "1.6",
         5.291502622129181,
         "28/John"
        ],
        [
         "HR",
         "Jane",
         60000,
         34,
         "2019-03-23",
         "1.6",
         5.830951894845301,
         "34/Jane"
        ],
        [
         "IT",
         "Mike",
         75000,
         29,
         "2021-06-01",
         "1.6",
         5.385164807134504,
         "29/Mike"
        ],
        [
         "IT",
         "Anna",
         80000,
         31,
         "2018-07-19",
         "1.6",
         5.5677643628300215,
         "31/Anna"
        ],
        [
         "Finance",
         "Sara",
         65000,
         45,
         "2017-11-30",
         "1.6",
         6.708203932499369,
         "45/Sara"
        ],
        [
         "Finance",
         "Tom",
         70000,
         41,
         "2016-09-15",
         "1.6",
         6.4031242374328485,
         "41/Tom"
        ],
        [
         "Marketing",
         "Nina",
         55000,
         26,
         "2022-02-10",
         "1.6",
         5.0990195135927845,
         "26/Nina"
        ],
        [
         "Marketing",
         "Alex",
         72000,
         30,
         "2019-12-05",
         "1.6",
         5.477225575051661,
         "30/Alex"
        ]
       ],
       "datasetInfos": [],
       "dbfsResultPath": null,
       "isJsonSchema": true,
       "metadata": {},
       "overflow": false,
       "plotOptions": {
        "customPlotOptions": {},
        "displayType": "table",
        "pivotAggregation": null,
        "pivotColumns": null,
        "xColumns": null,
        "yColumns": null
       },
       "removedWidgets": [],
       "schema": [
        {
         "metadata": "{}",
         "name": "Department",
         "type": "\"string\""
        },
        {
         "metadata": "{}",
         "name": "Employee",
         "type": "\"string\""
        },
        {
         "metadata": "{}",
         "name": "Salary",
         "type": "\"integer\""
        },
        {
         "metadata": "{}",
         "name": "Age",
         "type": "\"integer\""
        },
        {
         "metadata": "{\"__detected_date_formats\":\"yyyy-M-d\"}",
         "name": "Joining_Date",
         "type": "\"date\""
        },
        {
         "metadata": "{}",
         "name": "Grade",
         "type": "\"string\""
        },
        {
         "metadata": "{}",
         "name": "sqrt",
         "type": "\"double\""
        },
        {
         "metadata": "{}",
         "name": "concatws",
         "type": "\"string\""
        }
       ],
       "type": "table"
      }
     },
     "output_type": "display_data"
    }
   ],
   "source": [
    "concat_ws1 = sqrt.withColumn(\"concatws\", concat_ws(\"/\", col(\"Age\"),col(\"Employee\")))\n",
    "\n",
    "display(concat_ws1)"
   ]
  },
  {
   "cell_type": "code",
   "execution_count": 0,
   "metadata": {
    "application/vnd.databricks.v1+cell": {
     "cellMetadata": {
      "byteLimit": 2048000,
      "rowLimit": 10000
     },
     "inputWidgets": {},
     "nuid": "d662663d-b9ee-45ea-bcf8-ffdcd162212d",
     "showTitle": false,
     "tableResultSettingsMap": {},
     "title": ""
    }
   },
   "outputs": [
    {
     "output_type": "display_data",
     "data": {
      "text/html": [
       "<style scoped>\n",
       "  .table-result-container {\n",
       "    max-height: 300px;\n",
       "    overflow: auto;\n",
       "  }\n",
       "  table, th, td {\n",
       "    border: 1px solid black;\n",
       "    border-collapse: collapse;\n",
       "  }\n",
       "  th, td {\n",
       "    padding: 5px;\n",
       "  }\n",
       "  th {\n",
       "    text-align: left;\n",
       "  }\n",
       "</style><div class='table-result-container'><table class='table-result'><thead style='background-color: white'><tr><th>Department</th><th>Employee</th><th>Salary</th><th>Age</th><th>Joining_Date</th><th>Grade</th><th>sqrt</th></tr></thead><tbody><tr><td>HR</td><td>John</td><td>50000</td><td>28</td><td>2020-01-15</td><td>1.6</td><td>5.291502622129181</td></tr><tr><td>HR</td><td>Jane</td><td>60000</td><td>34</td><td>2019-03-23</td><td>1.6</td><td>5.830951894845301</td></tr><tr><td>IT</td><td>Mike</td><td>75000</td><td>29</td><td>2021-06-01</td><td>1.6</td><td>5.385164807134504</td></tr><tr><td>IT</td><td>Anna</td><td>80000</td><td>31</td><td>2018-07-19</td><td>1.6</td><td>5.5677643628300215</td></tr><tr><td>Finance</td><td>Sara</td><td>65000</td><td>45</td><td>2017-11-30</td><td>1.6</td><td>6.708203932499369</td></tr><tr><td>Finance</td><td>Tom</td><td>70000</td><td>41</td><td>2016-09-15</td><td>1.6</td><td>6.4031242374328485</td></tr><tr><td>Marketing</td><td>Nina</td><td>55000</td><td>26</td><td>2022-02-10</td><td>1.6</td><td>5.0990195135927845</td></tr><tr><td>Marketing</td><td>Alex</td><td>72000</td><td>30</td><td>2019-12-05</td><td>1.6</td><td>5.477225575051661</td></tr></tbody></table></div>"
      ]
     },
     "metadata": {
      "application/vnd.databricks.v1+output": {
       "addedWidgets": {},
       "aggData": [],
       "aggError": "",
       "aggOverflow": false,
       "aggSchema": [],
       "aggSeriesLimitReached": false,
       "aggType": "",
       "arguments": {},
       "columnCustomDisplayInfos": {},
       "data": [
        [
         "HR",
         "John",
         50000,
         28,
         "2020-01-15",
         "1.6",
         5.291502622129181
        ],
        [
         "HR",
         "Jane",
         60000,
         34,
         "2019-03-23",
         "1.6",
         5.830951894845301
        ],
        [
         "IT",
         "Mike",
         75000,
         29,
         "2021-06-01",
         "1.6",
         5.385164807134504
        ],
        [
         "IT",
         "Anna",
         80000,
         31,
         "2018-07-19",
         "1.6",
         5.5677643628300215
        ],
        [
         "Finance",
         "Sara",
         65000,
         45,
         "2017-11-30",
         "1.6",
         6.708203932499369
        ],
        [
         "Finance",
         "Tom",
         70000,
         41,
         "2016-09-15",
         "1.6",
         6.4031242374328485
        ],
        [
         "Marketing",
         "Nina",
         55000,
         26,
         "2022-02-10",
         "1.6",
         5.0990195135927845
        ],
        [
         "Marketing",
         "Alex",
         72000,
         30,
         "2019-12-05",
         "1.6",
         5.477225575051661
        ]
       ],
       "datasetInfos": [],
       "dbfsResultPath": null,
       "isJsonSchema": true,
       "metadata": {},
       "overflow": false,
       "plotOptions": {
        "customPlotOptions": {},
        "displayType": "table",
        "pivotAggregation": null,
        "pivotColumns": null,
        "xColumns": null,
        "yColumns": null
       },
       "removedWidgets": [],
       "schema": [
        {
         "metadata": "{}",
         "name": "Department",
         "type": "\"string\""
        },
        {
         "metadata": "{}",
         "name": "Employee",
         "type": "\"string\""
        },
        {
         "metadata": "{}",
         "name": "Salary",
         "type": "\"integer\""
        },
        {
         "metadata": "{}",
         "name": "Age",
         "type": "\"integer\""
        },
        {
         "metadata": "{\"__detected_date_formats\":\"yyyy-M-d\"}",
         "name": "Joining_Date",
         "type": "\"date\""
        },
        {
         "metadata": "{}",
         "name": "Grade",
         "type": "\"string\""
        },
        {
         "metadata": "{}",
         "name": "sqrt",
         "type": "\"double\""
        }
       ],
       "type": "table"
      }
     },
     "output_type": "display_data"
    }
   ],
   "source": [
    "display(sqrt)"
   ]
  },
  {
   "cell_type": "code",
   "execution_count": 0,
   "metadata": {
    "application/vnd.databricks.v1+cell": {
     "cellMetadata": {
      "byteLimit": 2048000,
      "rowLimit": 10000
     },
     "inputWidgets": {},
     "nuid": "73fae875-187f-460e-a1e4-f5ea62869c29",
     "showTitle": false,
     "tableResultSettingsMap": {},
     "title": ""
    }
   },
   "outputs": [
    {
     "output_type": "stream",
     "name": "stdout",
     "output_type": "stream",
     "text": [
      "+----------+--------+------+---+------------+-----+------------------+-----------+\n|Department|Employee|Salary|Age|Joining_Date|Grade|              sqrt|Name_Length|\n+----------+--------+------+---+------------+-----+------------------+-----------+\n|        HR|    John| 50000| 28|  2020-01-15|  1.6| 5.291502622129181|          4|\n|        HR|    Jane| 60000| 34|  2019-03-23|  1.6| 5.830951894845301|          4|\n|        IT|    Mike| 75000| 29|  2021-06-01|  1.6| 5.385164807134504|          4|\n|        IT|    Anna| 80000| 31|  2018-07-19|  1.6|5.5677643628300215|          4|\n|   Finance|    Sara| 65000| 45|  2017-11-30|  1.6| 6.708203932499369|          4|\n|   Finance|     Tom| 70000| 41|  2016-09-15|  1.6|6.4031242374328485|          3|\n| Marketing|    Nina| 55000| 26|  2022-02-10|  1.6|5.0990195135927845|          4|\n| Marketing|    Alex| 72000| 30|  2019-12-05|  1.6| 5.477225575051661|          4|\n+----------+--------+------+---+------------+-----+------------------+-----------+\n\n"
     ]
    }
   ],
   "source": [
    "\n",
    "from pyspark.sql.functions import col, length\n",
    "\n",
    "df_with_length = sqrt.withColumn(\"Name_Length\", length(col(\"Employee\")))\n",
    "df_with_length.show()\n"
   ]
  },
  {
   "cell_type": "code",
   "execution_count": 0,
   "metadata": {
    "application/vnd.databricks.v1+cell": {
     "cellMetadata": {
      "byteLimit": 2048000,
      "rowLimit": 10000
     },
     "inputWidgets": {},
     "nuid": "54258980-e53e-4a27-ade6-3894999caaf4",
     "showTitle": false,
     "tableResultSettingsMap": {},
     "title": ""
    }
   },
   "outputs": [
    {
     "output_type": "display_data",
     "data": {
      "text/html": [
       "<style scoped>\n",
       "  .table-result-container {\n",
       "    max-height: 300px;\n",
       "    overflow: auto;\n",
       "  }\n",
       "  table, th, td {\n",
       "    border: 1px solid black;\n",
       "    border-collapse: collapse;\n",
       "  }\n",
       "  th, td {\n",
       "    padding: 5px;\n",
       "  }\n",
       "  th {\n",
       "    text-align: left;\n",
       "  }\n",
       "</style><div class='table-result-container'><table class='table-result'><thead style='background-color: white'><tr><th>Department</th><th>Employee</th><th>Salary</th><th>Age</th><th>Joining_Date</th><th>Grade</th><th>sqrt</th><th>Upper</th><th>Lower</th></tr></thead><tbody><tr><td>HR</td><td>John</td><td>50000</td><td>28</td><td>2020-01-15</td><td>1.6</td><td>5.291502622129181</td><td>JOHN</td><td>john</td></tr><tr><td>HR</td><td>Jane</td><td>60000</td><td>34</td><td>2019-03-23</td><td>1.6</td><td>5.830951894845301</td><td>JANE</td><td>jane</td></tr><tr><td>IT</td><td>Mike</td><td>75000</td><td>29</td><td>2021-06-01</td><td>1.6</td><td>5.385164807134504</td><td>MIKE</td><td>mike</td></tr><tr><td>IT</td><td>Anna</td><td>80000</td><td>31</td><td>2018-07-19</td><td>1.6</td><td>5.5677643628300215</td><td>ANNA</td><td>anna</td></tr><tr><td>Finance</td><td>Sara</td><td>65000</td><td>45</td><td>2017-11-30</td><td>1.6</td><td>6.708203932499369</td><td>SARA</td><td>sara</td></tr><tr><td>Finance</td><td>Tom</td><td>70000</td><td>41</td><td>2016-09-15</td><td>1.6</td><td>6.4031242374328485</td><td>TOM</td><td>tom</td></tr><tr><td>Marketing</td><td>Nina</td><td>55000</td><td>26</td><td>2022-02-10</td><td>1.6</td><td>5.0990195135927845</td><td>NINA</td><td>nina</td></tr><tr><td>Marketing</td><td>Alex</td><td>72000</td><td>30</td><td>2019-12-05</td><td>1.6</td><td>5.477225575051661</td><td>ALEX</td><td>alex</td></tr></tbody></table></div>"
      ]
     },
     "metadata": {
      "application/vnd.databricks.v1+output": {
       "addedWidgets": {},
       "aggData": [],
       "aggError": "",
       "aggOverflow": false,
       "aggSchema": [],
       "aggSeriesLimitReached": false,
       "aggType": "",
       "arguments": {},
       "columnCustomDisplayInfos": {},
       "data": [
        [
         "HR",
         "John",
         50000,
         28,
         "2020-01-15",
         "1.6",
         5.291502622129181,
         "JOHN",
         "john"
        ],
        [
         "HR",
         "Jane",
         60000,
         34,
         "2019-03-23",
         "1.6",
         5.830951894845301,
         "JANE",
         "jane"
        ],
        [
         "IT",
         "Mike",
         75000,
         29,
         "2021-06-01",
         "1.6",
         5.385164807134504,
         "MIKE",
         "mike"
        ],
        [
         "IT",
         "Anna",
         80000,
         31,
         "2018-07-19",
         "1.6",
         5.5677643628300215,
         "ANNA",
         "anna"
        ],
        [
         "Finance",
         "Sara",
         65000,
         45,
         "2017-11-30",
         "1.6",
         6.708203932499369,
         "SARA",
         "sara"
        ],
        [
         "Finance",
         "Tom",
         70000,
         41,
         "2016-09-15",
         "1.6",
         6.4031242374328485,
         "TOM",
         "tom"
        ],
        [
         "Marketing",
         "Nina",
         55000,
         26,
         "2022-02-10",
         "1.6",
         5.0990195135927845,
         "NINA",
         "nina"
        ],
        [
         "Marketing",
         "Alex",
         72000,
         30,
         "2019-12-05",
         "1.6",
         5.477225575051661,
         "ALEX",
         "alex"
        ]
       ],
       "datasetInfos": [],
       "dbfsResultPath": null,
       "isJsonSchema": true,
       "metadata": {},
       "overflow": false,
       "plotOptions": {
        "customPlotOptions": {},
        "displayType": "table",
        "pivotAggregation": null,
        "pivotColumns": null,
        "xColumns": null,
        "yColumns": null
       },
       "removedWidgets": [],
       "schema": [
        {
         "metadata": "{}",
         "name": "Department",
         "type": "\"string\""
        },
        {
         "metadata": "{}",
         "name": "Employee",
         "type": "\"string\""
        },
        {
         "metadata": "{}",
         "name": "Salary",
         "type": "\"integer\""
        },
        {
         "metadata": "{}",
         "name": "Age",
         "type": "\"integer\""
        },
        {
         "metadata": "{\"__detected_date_formats\":\"yyyy-M-d\"}",
         "name": "Joining_Date",
         "type": "\"date\""
        },
        {
         "metadata": "{}",
         "name": "Grade",
         "type": "\"string\""
        },
        {
         "metadata": "{}",
         "name": "sqrt",
         "type": "\"double\""
        },
        {
         "metadata": "{}",
         "name": "Upper",
         "type": "\"string\""
        },
        {
         "metadata": "{}",
         "name": "Lower",
         "type": "\"string\""
        }
       ],
       "type": "table"
      }
     },
     "output_type": "display_data"
    }
   ],
   "source": [
    "from pyspark.sql.functions import upper, lower\n",
    "\n",
    "upper2 = sqrt.withColumn(\"Upper\", upper(col(\"Employee\")))\\\n",
    "             .withColumn(\"Lower\", lower(col(\"Employee\")))\n",
    "\n",
    "display(upper2)"
   ]
  },
  {
   "cell_type": "code",
   "execution_count": 0,
   "metadata": {
    "application/vnd.databricks.v1+cell": {
     "cellMetadata": {
      "byteLimit": 2048000,
      "rowLimit": 10000
     },
     "inputWidgets": {},
     "nuid": "e7f47f6c-832e-4d4f-8f21-16a63ecf588e",
     "showTitle": false,
     "tableResultSettingsMap": {},
     "title": ""
    }
   },
   "outputs": [
    {
     "output_type": "display_data",
     "data": {
      "text/html": [
       "<style scoped>\n",
       "  .table-result-container {\n",
       "    max-height: 300px;\n",
       "    overflow: auto;\n",
       "  }\n",
       "  table, th, td {\n",
       "    border: 1px solid black;\n",
       "    border-collapse: collapse;\n",
       "  }\n",
       "  th, td {\n",
       "    padding: 5px;\n",
       "  }\n",
       "  th {\n",
       "    text-align: left;\n",
       "  }\n",
       "</style><div class='table-result-container'><table class='table-result'><thead style='background-color: white'><tr><th>Department</th><th>Employee</th><th>Salary</th><th>Age</th><th>Joining_Date</th><th>Grade</th><th>sqrt</th><th>FirstName</th></tr></thead><tbody><tr><td>HR</td><td>John</td><td>50000</td><td>28</td><td>2020-01-15</td><td>1.6</td><td>5.291502622129181</td><td>List(2020, 01, 15)</td></tr><tr><td>HR</td><td>Jane</td><td>60000</td><td>34</td><td>2019-03-23</td><td>1.6</td><td>5.830951894845301</td><td>List(2019, 03, 23)</td></tr><tr><td>IT</td><td>Mike</td><td>75000</td><td>29</td><td>2021-06-01</td><td>1.6</td><td>5.385164807134504</td><td>List(2021, 06, 01)</td></tr><tr><td>IT</td><td>Anna</td><td>80000</td><td>31</td><td>2018-07-19</td><td>1.6</td><td>5.5677643628300215</td><td>List(2018, 07, 19)</td></tr><tr><td>Finance</td><td>Sara</td><td>65000</td><td>45</td><td>2017-11-30</td><td>1.6</td><td>6.708203932499369</td><td>List(2017, 11, 30)</td></tr><tr><td>Finance</td><td>Tom</td><td>70000</td><td>41</td><td>2016-09-15</td><td>1.6</td><td>6.4031242374328485</td><td>List(2016, 09, 15)</td></tr><tr><td>Marketing</td><td>Nina</td><td>55000</td><td>26</td><td>2022-02-10</td><td>1.6</td><td>5.0990195135927845</td><td>List(2022, 02, 10)</td></tr><tr><td>Marketing</td><td>Alex</td><td>72000</td><td>30</td><td>2019-12-05</td><td>1.6</td><td>5.477225575051661</td><td>List(2019, 12, 05)</td></tr></tbody></table></div>"
      ]
     },
     "metadata": {
      "application/vnd.databricks.v1+output": {
       "addedWidgets": {},
       "aggData": [],
       "aggError": "",
       "aggOverflow": false,
       "aggSchema": [],
       "aggSeriesLimitReached": false,
       "aggType": "",
       "arguments": {},
       "columnCustomDisplayInfos": {},
       "data": [
        [
         "HR",
         "John",
         50000,
         28,
         "2020-01-15",
         "1.6",
         5.291502622129181,
         [
          "2020",
          "01",
          "15"
         ]
        ],
        [
         "HR",
         "Jane",
         60000,
         34,
         "2019-03-23",
         "1.6",
         5.830951894845301,
         [
          "2019",
          "03",
          "23"
         ]
        ],
        [
         "IT",
         "Mike",
         75000,
         29,
         "2021-06-01",
         "1.6",
         5.385164807134504,
         [
          "2021",
          "06",
          "01"
         ]
        ],
        [
         "IT",
         "Anna",
         80000,
         31,
         "2018-07-19",
         "1.6",
         5.5677643628300215,
         [
          "2018",
          "07",
          "19"
         ]
        ],
        [
         "Finance",
         "Sara",
         65000,
         45,
         "2017-11-30",
         "1.6",
         6.708203932499369,
         [
          "2017",
          "11",
          "30"
         ]
        ],
        [
         "Finance",
         "Tom",
         70000,
         41,
         "2016-09-15",
         "1.6",
         6.4031242374328485,
         [
          "2016",
          "09",
          "15"
         ]
        ],
        [
         "Marketing",
         "Nina",
         55000,
         26,
         "2022-02-10",
         "1.6",
         5.0990195135927845,
         [
          "2022",
          "02",
          "10"
         ]
        ],
        [
         "Marketing",
         "Alex",
         72000,
         30,
         "2019-12-05",
         "1.6",
         5.477225575051661,
         [
          "2019",
          "12",
          "05"
         ]
        ]
       ],
       "datasetInfos": [],
       "dbfsResultPath": null,
       "isJsonSchema": true,
       "metadata": {},
       "overflow": false,
       "plotOptions": {
        "customPlotOptions": {},
        "displayType": "table",
        "pivotAggregation": null,
        "pivotColumns": null,
        "xColumns": null,
        "yColumns": null
       },
       "removedWidgets": [],
       "schema": [
        {
         "metadata": "{}",
         "name": "Department",
         "type": "\"string\""
        },
        {
         "metadata": "{}",
         "name": "Employee",
         "type": "\"string\""
        },
        {
         "metadata": "{}",
         "name": "Salary",
         "type": "\"integer\""
        },
        {
         "metadata": "{}",
         "name": "Age",
         "type": "\"integer\""
        },
        {
         "metadata": "{\"__detected_date_formats\":\"yyyy-M-d\"}",
         "name": "Joining_Date",
         "type": "\"date\""
        },
        {
         "metadata": "{}",
         "name": "Grade",
         "type": "\"string\""
        },
        {
         "metadata": "{}",
         "name": "sqrt",
         "type": "\"double\""
        },
        {
         "metadata": "{}",
         "name": "FirstName",
         "type": "{\"type\":\"array\",\"elementType\":\"string\",\"containsNull\":false}"
        }
       ],
       "type": "table"
      }
     },
     "output_type": "display_data"
    }
   ],
   "source": [
    "from pyspark.sql.functions import split\n",
    "\n",
    "splitting = sqrt.withColumn(\"FirstName\", split(col(\"joining_date\"), \"-\"))\n",
    "\n",
    "\n",
    "display(splitting)"
   ]
  },
  {
   "cell_type": "code",
   "execution_count": 0,
   "metadata": {
    "application/vnd.databricks.v1+cell": {
     "cellMetadata": {
      "byteLimit": 2048000,
      "rowLimit": 10000
     },
     "inputWidgets": {},
     "nuid": "26f3a9a2-6389-43fa-a606-12bd3759022f",
     "showTitle": false,
     "tableResultSettingsMap": {},
     "title": ""
    }
   },
   "outputs": [
    {
     "output_type": "stream",
     "name": "stdout",
     "output_type": "stream",
     "text": [
      "+----------------+\n|NameParts       |\n+----------------+\n|[Alice, Johnson]|\n|[Bob, Smith]    |\n|[Charlie, Brown]|\n+----------------+\n\n"
     ]
    }
   ],
   "source": [
    "from pyspark.sql import SparkSession\n",
    "from pyspark.sql.types import StructType, StructField, ArrayType, StringType\n",
    "\n",
    "# Create Spark session\n",
    "spark = SparkSession.builder.appName(\"ArrayColumnExample\").getOrCreate()\n",
    "\n",
    "# Corrected data format\n",
    "data = [\n",
    "    ([\"Alice\", \"Johnson\"],),\n",
    "    ([\"Bob\", \"Smith\"],),\n",
    "    ([\"Charlie\", \"Brown\"],)\n",
    "]\n",
    "\n",
    "# Define schema\n",
    "schema = StructType([\n",
    "    StructField(\"NameParts\", ArrayType(StringType()), True)\n",
    "])\n",
    "\n",
    "# Create DataFrame\n",
    "df = spark.createDataFrame(data, schema)\n",
    "\n",
    "df.show(truncate=False)\n"
   ]
  },
  {
   "cell_type": "code",
   "execution_count": 0,
   "metadata": {
    "application/vnd.databricks.v1+cell": {
     "cellMetadata": {
      "byteLimit": 2048000,
      "rowLimit": 10000
     },
     "inputWidgets": {},
     "nuid": "af69f667-63b8-488f-b26f-1f1890267865",
     "showTitle": false,
     "tableResultSettingsMap": {},
     "title": ""
    }
   },
   "outputs": [
    {
     "output_type": "display_data",
     "data": {
      "text/html": [
       "<style scoped>\n",
       "  .table-result-container {\n",
       "    max-height: 300px;\n",
       "    overflow: auto;\n",
       "  }\n",
       "  table, th, td {\n",
       "    border: 1px solid black;\n",
       "    border-collapse: collapse;\n",
       "  }\n",
       "  th, td {\n",
       "    padding: 5px;\n",
       "  }\n",
       "  th {\n",
       "    text-align: left;\n",
       "  }\n",
       "</style><div class='table-result-container'><table class='table-result'><thead style='background-color: white'><tr><th>NameParts</th><th>size</th></tr></thead><tbody><tr><td>List(Alice, Johnson)</td><td>2</td></tr><tr><td>List(Bob, Smith)</td><td>2</td></tr><tr><td>List(Charlie, Brown)</td><td>2</td></tr></tbody></table></div>"
      ]
     },
     "metadata": {
      "application/vnd.databricks.v1+output": {
       "addedWidgets": {},
       "aggData": [],
       "aggError": "",
       "aggOverflow": false,
       "aggSchema": [],
       "aggSeriesLimitReached": false,
       "aggType": "",
       "arguments": {},
       "columnCustomDisplayInfos": {},
       "data": [
        [
         [
          "Alice",
          "Johnson"
         ],
         2
        ],
        [
         [
          "Bob",
          "Smith"
         ],
         2
        ],
        [
         [
          "Charlie",
          "Brown"
         ],
         2
        ]
       ],
       "datasetInfos": [],
       "dbfsResultPath": null,
       "isJsonSchema": true,
       "metadata": {},
       "overflow": false,
       "plotOptions": {
        "customPlotOptions": {},
        "displayType": "table",
        "pivotAggregation": null,
        "pivotColumns": null,
        "xColumns": null,
        "yColumns": null
       },
       "removedWidgets": [],
       "schema": [
        {
         "metadata": "{}",
         "name": "NameParts",
         "type": "{\"type\":\"array\",\"elementType\":\"string\",\"containsNull\":true}"
        },
        {
         "metadata": "{}",
         "name": "size",
         "type": "\"integer\""
        }
       ],
       "type": "table"
      }
     },
     "output_type": "display_data"
    }
   ],
   "source": [
    "from pyspark.sql.functions import size\n",
    "size = df.withColumn(\"size\", size(col(\"NameParts\")))\n",
    "display(size)"
   ]
  }
 ],
 "metadata": {
  "application/vnd.databricks.v1+notebook": {
   "computePreferences": null,
   "dashboards": [],
   "environmentMetadata": {
    "base_environment": "",
    "environment_version": "1"
   },
   "inputWidgetPreferences": null,
   "language": "python",
   "notebookMetadata": {
    "pythonIndentUnit": 4
   },
   "notebookName": "Hands-on",
   "widgets": {}
  }
 },
 "nbformat": 4,
 "nbformat_minor": 0
}